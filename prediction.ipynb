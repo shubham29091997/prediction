{
  "nbformat": 4,
  "nbformat_minor": 0,
  "metadata": {
    "colab": {
      "name": "prediction.ipynb",
      "provenance": [],
      "collapsed_sections": [],
      "authorship_tag": "ABX9TyPhPbklae7IOvSVVtk4RTT1",
      "include_colab_link": true
    },
    "kernelspec": {
      "name": "python3",
      "display_name": "Python 3"
    },
    "accelerator": "TPU"
  },
  "cells": [
    {
      "cell_type": "markdown",
      "metadata": {
        "id": "view-in-github",
        "colab_type": "text"
      },
      "source": [
        "<a href=\"https://colab.research.google.com/github/shubham29091997/prediction/blob/master/prediction.ipynb\" target=\"_parent\"><img src=\"https://colab.research.google.com/assets/colab-badge.svg\" alt=\"Open In Colab\"/></a>"
      ]
    },
    {
      "cell_type": "code",
      "metadata": {
        "id": "A_st-_pP9-po",
        "colab_type": "code",
        "colab": {}
      },
      "source": [
        "import os \n",
        "import nltk\n",
        "from nltk.corpus import stopwords\n",
        "import numpy as np\n",
        "import pandas as pd\n",
        "import matplotlib.pyplot as plt\n",
        "import seaborn as sns\n",
        "from sklearn.decomposition import TruncatedSVD\n",
        "from sklearn.feature_extraction.text import TfidfVectorizer, TfidfTransformer"
      ],
      "execution_count": 29,
      "outputs": []
    },
    {
      "cell_type": "code",
      "metadata": {
        "id": "Je8ZgECEOhXE",
        "colab_type": "code",
        "colab": {
          "base_uri": "https://localhost:8080/",
          "height": 949
        },
        "outputId": "e0b7de05-7aad-4b52-c90d-0f2521941c5b"
      },
      "source": [
        "import pandas as pd\n",
        "df = pd.read_csv('/content/train.csv')\n",
        "df"
      ],
      "execution_count": 1,
      "outputs": [
        {
          "output_type": "execute_result",
          "data": {
            "text/html": [
              "<div>\n",
              "<style scoped>\n",
              "    .dataframe tbody tr th:only-of-type {\n",
              "        vertical-align: middle;\n",
              "    }\n",
              "\n",
              "    .dataframe tbody tr th {\n",
              "        vertical-align: top;\n",
              "    }\n",
              "\n",
              "    .dataframe thead th {\n",
              "        text-align: right;\n",
              "    }\n",
              "</style>\n",
              "<table border=\"1\" class=\"dataframe\">\n",
              "  <thead>\n",
              "    <tr style=\"text-align: right;\">\n",
              "      <th></th>\n",
              "      <th>index</th>\n",
              "      <th>beer/ABV</th>\n",
              "      <th>beer/beerId</th>\n",
              "      <th>beer/brewerId</th>\n",
              "      <th>beer/name</th>\n",
              "      <th>beer/style</th>\n",
              "      <th>review/appearance</th>\n",
              "      <th>review/aroma</th>\n",
              "      <th>review/overall</th>\n",
              "      <th>review/palate</th>\n",
              "      <th>review/taste</th>\n",
              "      <th>review/text</th>\n",
              "      <th>review/timeStruct</th>\n",
              "      <th>review/timeUnix</th>\n",
              "      <th>user/ageInSeconds</th>\n",
              "      <th>user/birthdayRaw</th>\n",
              "      <th>user/birthdayUnix</th>\n",
              "      <th>user/gender</th>\n",
              "      <th>user/profileName</th>\n",
              "    </tr>\n",
              "  </thead>\n",
              "  <tbody>\n",
              "    <tr>\n",
              "      <th>0</th>\n",
              "      <td>40163</td>\n",
              "      <td>5.00</td>\n",
              "      <td>46634</td>\n",
              "      <td>14338</td>\n",
              "      <td>Chiostro</td>\n",
              "      <td>Herbed / Spiced Beer</td>\n",
              "      <td>4.0</td>\n",
              "      <td>4.0</td>\n",
              "      <td>4.0</td>\n",
              "      <td>4.0</td>\n",
              "      <td>4.0</td>\n",
              "      <td>Pours a clouded gold with a thin white head. N...</td>\n",
              "      <td>{'min': 38, 'hour': 3, 'mday': 16, 'sec': 10, ...</td>\n",
              "      <td>1229398690</td>\n",
              "      <td>NaN</td>\n",
              "      <td>NaN</td>\n",
              "      <td>NaN</td>\n",
              "      <td>NaN</td>\n",
              "      <td>RblWthACoz</td>\n",
              "    </tr>\n",
              "    <tr>\n",
              "      <th>1</th>\n",
              "      <td>8135</td>\n",
              "      <td>11.00</td>\n",
              "      <td>3003</td>\n",
              "      <td>395</td>\n",
              "      <td>Bearded Pat's Barleywine</td>\n",
              "      <td>American Barleywine</td>\n",
              "      <td>4.0</td>\n",
              "      <td>3.5</td>\n",
              "      <td>3.5</td>\n",
              "      <td>3.5</td>\n",
              "      <td>3.0</td>\n",
              "      <td>12oz bottle into 8oz snifter.\\t\\tDeep ruby red...</td>\n",
              "      <td>{'min': 38, 'hour': 23, 'mday': 8, 'sec': 58, ...</td>\n",
              "      <td>1218238738</td>\n",
              "      <td>NaN</td>\n",
              "      <td>NaN</td>\n",
              "      <td>NaN</td>\n",
              "      <td>NaN</td>\n",
              "      <td>BeerSox</td>\n",
              "    </tr>\n",
              "    <tr>\n",
              "      <th>2</th>\n",
              "      <td>10529</td>\n",
              "      <td>4.70</td>\n",
              "      <td>961</td>\n",
              "      <td>365</td>\n",
              "      <td>Naughty Nellie's Ale</td>\n",
              "      <td>American Pale Ale (APA)</td>\n",
              "      <td>3.5</td>\n",
              "      <td>4.0</td>\n",
              "      <td>3.5</td>\n",
              "      <td>3.5</td>\n",
              "      <td>3.5</td>\n",
              "      <td>First enjoyed at the brewpub about 2 years ago...</td>\n",
              "      <td>{'min': 7, 'hour': 18, 'mday': 26, 'sec': 2, '...</td>\n",
              "      <td>1101492422</td>\n",
              "      <td>NaN</td>\n",
              "      <td>NaN</td>\n",
              "      <td>NaN</td>\n",
              "      <td>Male</td>\n",
              "      <td>mschofield</td>\n",
              "    </tr>\n",
              "    <tr>\n",
              "      <th>3</th>\n",
              "      <td>44610</td>\n",
              "      <td>4.40</td>\n",
              "      <td>429</td>\n",
              "      <td>1</td>\n",
              "      <td>Pilsner Urquell</td>\n",
              "      <td>Czech Pilsener</td>\n",
              "      <td>3.0</td>\n",
              "      <td>3.0</td>\n",
              "      <td>2.5</td>\n",
              "      <td>3.0</td>\n",
              "      <td>3.0</td>\n",
              "      <td>First thing I noticed after pouring from green...</td>\n",
              "      <td>{'min': 7, 'hour': 1, 'mday': 20, 'sec': 5, 'y...</td>\n",
              "      <td>1308532025</td>\n",
              "      <td>1.209827e+09</td>\n",
              "      <td>Aug 10, 1976</td>\n",
              "      <td>208508400.0</td>\n",
              "      <td>Male</td>\n",
              "      <td>molegar76</td>\n",
              "    </tr>\n",
              "    <tr>\n",
              "      <th>4</th>\n",
              "      <td>37062</td>\n",
              "      <td>4.40</td>\n",
              "      <td>4904</td>\n",
              "      <td>1417</td>\n",
              "      <td>Black Sheep Ale (Special)</td>\n",
              "      <td>English Pale Ale</td>\n",
              "      <td>4.0</td>\n",
              "      <td>3.0</td>\n",
              "      <td>3.0</td>\n",
              "      <td>3.5</td>\n",
              "      <td>2.5</td>\n",
              "      <td>A: pours an amber with a one finger head but o...</td>\n",
              "      <td>{'min': 51, 'hour': 6, 'mday': 12, 'sec': 48, ...</td>\n",
              "      <td>1299912708</td>\n",
              "      <td>NaN</td>\n",
              "      <td>NaN</td>\n",
              "      <td>NaN</td>\n",
              "      <td>NaN</td>\n",
              "      <td>Brewbro000</td>\n",
              "    </tr>\n",
              "    <tr>\n",
              "      <th>...</th>\n",
              "      <td>...</td>\n",
              "      <td>...</td>\n",
              "      <td>...</td>\n",
              "      <td>...</td>\n",
              "      <td>...</td>\n",
              "      <td>...</td>\n",
              "      <td>...</td>\n",
              "      <td>...</td>\n",
              "      <td>...</td>\n",
              "      <td>...</td>\n",
              "      <td>...</td>\n",
              "      <td>...</td>\n",
              "      <td>...</td>\n",
              "      <td>...</td>\n",
              "      <td>...</td>\n",
              "      <td>...</td>\n",
              "      <td>...</td>\n",
              "      <td>...</td>\n",
              "      <td>...</td>\n",
              "    </tr>\n",
              "    <tr>\n",
              "      <th>37495</th>\n",
              "      <td>35175</td>\n",
              "      <td>5.50</td>\n",
              "      <td>22450</td>\n",
              "      <td>3268</td>\n",
              "      <td>Blackberry Scottish-Style</td>\n",
              "      <td>Fruit / Vegetable Beer</td>\n",
              "      <td>4.0</td>\n",
              "      <td>3.5</td>\n",
              "      <td>3.5</td>\n",
              "      <td>3.5</td>\n",
              "      <td>3.5</td>\n",
              "      <td>12 oz brown longneck with no freshness dating....</td>\n",
              "      <td>{'min': 56, 'hour': 23, 'mday': 10, 'sec': 1, ...</td>\n",
              "      <td>1207871761</td>\n",
              "      <td>NaN</td>\n",
              "      <td>NaN</td>\n",
              "      <td>NaN</td>\n",
              "      <td>NaN</td>\n",
              "      <td>Redrover</td>\n",
              "    </tr>\n",
              "    <tr>\n",
              "      <th>37496</th>\n",
              "      <td>23666</td>\n",
              "      <td>8.50</td>\n",
              "      <td>7463</td>\n",
              "      <td>1199</td>\n",
              "      <td>Founders Dirty Bastard</td>\n",
              "      <td>Scotch Ale / Wee Heavy</td>\n",
              "      <td>4.5</td>\n",
              "      <td>4.0</td>\n",
              "      <td>3.5</td>\n",
              "      <td>4.5</td>\n",
              "      <td>4.5</td>\n",
              "      <td>A - A bright red with a maroon-amber hue; mini...</td>\n",
              "      <td>{'min': 45, 'hour': 5, 'mday': 10, 'sec': 14, ...</td>\n",
              "      <td>1263102314</td>\n",
              "      <td>NaN</td>\n",
              "      <td>NaN</td>\n",
              "      <td>NaN</td>\n",
              "      <td>NaN</td>\n",
              "      <td>jmerloni</td>\n",
              "    </tr>\n",
              "    <tr>\n",
              "      <th>37497</th>\n",
              "      <td>47720</td>\n",
              "      <td>4.75</td>\n",
              "      <td>1154</td>\n",
              "      <td>394</td>\n",
              "      <td>Stoudt's Fest</td>\n",
              "      <td>MÃ¤rzen / Oktoberfest</td>\n",
              "      <td>4.0</td>\n",
              "      <td>3.5</td>\n",
              "      <td>4.0</td>\n",
              "      <td>4.5</td>\n",
              "      <td>4.0</td>\n",
              "      <td>Sampled on tap at Redbones.\\t\\tThis marzen sty...</td>\n",
              "      <td>{'min': 3, 'hour': 1, 'mday': 25, 'sec': 36, '...</td>\n",
              "      <td>1067043816</td>\n",
              "      <td>NaN</td>\n",
              "      <td>NaN</td>\n",
              "      <td>NaN</td>\n",
              "      <td>NaN</td>\n",
              "      <td>UncleJimbo</td>\n",
              "    </tr>\n",
              "    <tr>\n",
              "      <th>37498</th>\n",
              "      <td>33233</td>\n",
              "      <td>11.20</td>\n",
              "      <td>19960</td>\n",
              "      <td>1199</td>\n",
              "      <td>Founders KBS (Kentucky Breakfast Stout)</td>\n",
              "      <td>American Double / Imperial Stout</td>\n",
              "      <td>4.0</td>\n",
              "      <td>4.0</td>\n",
              "      <td>4.0</td>\n",
              "      <td>5.0</td>\n",
              "      <td>5.0</td>\n",
              "      <td>Pours a black body with a brown head that very...</td>\n",
              "      <td>{'min': 52, 'hour': 19, 'mday': 29, 'sec': 33,...</td>\n",
              "      <td>1296330753</td>\n",
              "      <td>NaN</td>\n",
              "      <td>NaN</td>\n",
              "      <td>NaN</td>\n",
              "      <td>NaN</td>\n",
              "      <td>Stockfan42</td>\n",
              "    </tr>\n",
              "    <tr>\n",
              "      <th>37499</th>\n",
              "      <td>23758</td>\n",
              "      <td>8.50</td>\n",
              "      <td>7463</td>\n",
              "      <td>1199</td>\n",
              "      <td>Founders Dirty Bastard</td>\n",
              "      <td>Scotch Ale / Wee Heavy</td>\n",
              "      <td>4.0</td>\n",
              "      <td>4.0</td>\n",
              "      <td>4.0</td>\n",
              "      <td>4.5</td>\n",
              "      <td>4.0</td>\n",
              "      <td>A nice sweet, malty beer...nothing complex, ju...</td>\n",
              "      <td>{'min': 40, 'hour': 18, 'mday': 4, 'sec': 28, ...</td>\n",
              "      <td>1252089628</td>\n",
              "      <td>NaN</td>\n",
              "      <td>NaN</td>\n",
              "      <td>NaN</td>\n",
              "      <td>NaN</td>\n",
              "      <td>JayQue</td>\n",
              "    </tr>\n",
              "  </tbody>\n",
              "</table>\n",
              "<p>37500 rows × 19 columns</p>\n",
              "</div>"
            ],
            "text/plain": [
              "       index  beer/ABV  ...  user/gender  user/profileName\n",
              "0      40163      5.00  ...          NaN        RblWthACoz\n",
              "1       8135     11.00  ...          NaN           BeerSox\n",
              "2      10529      4.70  ...         Male        mschofield\n",
              "3      44610      4.40  ...         Male         molegar76\n",
              "4      37062      4.40  ...          NaN        Brewbro000\n",
              "...      ...       ...  ...          ...               ...\n",
              "37495  35175      5.50  ...          NaN          Redrover\n",
              "37496  23666      8.50  ...          NaN          jmerloni\n",
              "37497  47720      4.75  ...          NaN        UncleJimbo\n",
              "37498  33233     11.20  ...          NaN        Stockfan42\n",
              "37499  23758      8.50  ...          NaN            JayQue\n",
              "\n",
              "[37500 rows x 19 columns]"
            ]
          },
          "metadata": {
            "tags": []
          },
          "execution_count": 1
        }
      ]
    },
    {
      "cell_type": "code",
      "metadata": {
        "id": "xlMNLtYbdLH4",
        "colab_type": "code",
        "colab": {
          "base_uri": "https://localhost:8080/",
          "height": 34
        },
        "outputId": "eda2f41a-5e67-42fd-8517-055f13f7e183"
      },
      "source": [
        "df.shape"
      ],
      "execution_count": 2,
      "outputs": [
        {
          "output_type": "execute_result",
          "data": {
            "text/plain": [
              "(37500, 19)"
            ]
          },
          "metadata": {
            "tags": []
          },
          "execution_count": 2
        }
      ]
    },
    {
      "cell_type": "code",
      "metadata": {
        "id": "ki-E8EZ8xeNp",
        "colab_type": "code",
        "colab": {
          "base_uri": "https://localhost:8080/",
          "height": 119
        },
        "outputId": "4a094b3f-c096-4366-986d-5f9d17bf865d"
      },
      "source": [
        "df.columns\n"
      ],
      "execution_count": 3,
      "outputs": [
        {
          "output_type": "execute_result",
          "data": {
            "text/plain": [
              "Index(['index', 'beer/ABV', 'beer/beerId', 'beer/brewerId', 'beer/name',\n",
              "       'beer/style', 'review/appearance', 'review/aroma', 'review/overall',\n",
              "       'review/palate', 'review/taste', 'review/text', 'review/timeStruct',\n",
              "       'review/timeUnix', 'user/ageInSeconds', 'user/birthdayRaw',\n",
              "       'user/birthdayUnix', 'user/gender', 'user/profileName'],\n",
              "      dtype='object')"
            ]
          },
          "metadata": {
            "tags": []
          },
          "execution_count": 3
        }
      ]
    },
    {
      "cell_type": "code",
      "metadata": {
        "id": "XIMrynfHdpXU",
        "colab_type": "code",
        "colab": {
          "base_uri": "https://localhost:8080/",
          "height": 317
        },
        "outputId": "bb1ddc98-79dd-4f9b-a4ce-0b5f0cb922ce"
      },
      "source": [
        "df.describe()"
      ],
      "execution_count": 4,
      "outputs": [
        {
          "output_type": "execute_result",
          "data": {
            "text/html": [
              "<div>\n",
              "<style scoped>\n",
              "    .dataframe tbody tr th:only-of-type {\n",
              "        vertical-align: middle;\n",
              "    }\n",
              "\n",
              "    .dataframe tbody tr th {\n",
              "        vertical-align: top;\n",
              "    }\n",
              "\n",
              "    .dataframe thead th {\n",
              "        text-align: right;\n",
              "    }\n",
              "</style>\n",
              "<table border=\"1\" class=\"dataframe\">\n",
              "  <thead>\n",
              "    <tr style=\"text-align: right;\">\n",
              "      <th></th>\n",
              "      <th>index</th>\n",
              "      <th>beer/ABV</th>\n",
              "      <th>beer/beerId</th>\n",
              "      <th>beer/brewerId</th>\n",
              "      <th>review/appearance</th>\n",
              "      <th>review/aroma</th>\n",
              "      <th>review/overall</th>\n",
              "      <th>review/palate</th>\n",
              "      <th>review/taste</th>\n",
              "      <th>review/timeUnix</th>\n",
              "      <th>user/ageInSeconds</th>\n",
              "      <th>user/birthdayUnix</th>\n",
              "    </tr>\n",
              "  </thead>\n",
              "  <tbody>\n",
              "    <tr>\n",
              "      <th>count</th>\n",
              "      <td>37500.000000</td>\n",
              "      <td>37500.000000</td>\n",
              "      <td>37500.000000</td>\n",
              "      <td>37500.000000</td>\n",
              "      <td>37500.000000</td>\n",
              "      <td>37500.000000</td>\n",
              "      <td>37500.00000</td>\n",
              "      <td>37500.000000</td>\n",
              "      <td>37500.000000</td>\n",
              "      <td>3.750000e+04</td>\n",
              "      <td>7.856000e+03</td>\n",
              "      <td>7.856000e+03</td>\n",
              "    </tr>\n",
              "    <tr>\n",
              "      <th>mean</th>\n",
              "      <td>24951.887573</td>\n",
              "      <td>7.403725</td>\n",
              "      <td>21861.152027</td>\n",
              "      <td>3036.595120</td>\n",
              "      <td>3.900053</td>\n",
              "      <td>3.873240</td>\n",
              "      <td>3.88944</td>\n",
              "      <td>3.854867</td>\n",
              "      <td>3.922440</td>\n",
              "      <td>1.232794e+09</td>\n",
              "      <td>1.176705e+09</td>\n",
              "      <td>2.416303e+08</td>\n",
              "    </tr>\n",
              "    <tr>\n",
              "      <th>std</th>\n",
              "      <td>14434.009669</td>\n",
              "      <td>2.318145</td>\n",
              "      <td>18923.130832</td>\n",
              "      <td>5123.084675</td>\n",
              "      <td>0.588778</td>\n",
              "      <td>0.680865</td>\n",
              "      <td>0.70045</td>\n",
              "      <td>0.668068</td>\n",
              "      <td>0.716504</td>\n",
              "      <td>7.190955e+07</td>\n",
              "      <td>3.375514e+08</td>\n",
              "      <td>3.375514e+08</td>\n",
              "    </tr>\n",
              "    <tr>\n",
              "      <th>min</th>\n",
              "      <td>0.000000</td>\n",
              "      <td>0.100000</td>\n",
              "      <td>175.000000</td>\n",
              "      <td>1.000000</td>\n",
              "      <td>0.000000</td>\n",
              "      <td>1.000000</td>\n",
              "      <td>0.00000</td>\n",
              "      <td>1.000000</td>\n",
              "      <td>1.000000</td>\n",
              "      <td>9.262944e+08</td>\n",
              "      <td>7.034366e+08</td>\n",
              "      <td>-2.208960e+09</td>\n",
              "    </tr>\n",
              "    <tr>\n",
              "      <th>25%</th>\n",
              "      <td>12422.500000</td>\n",
              "      <td>5.400000</td>\n",
              "      <td>5441.000000</td>\n",
              "      <td>395.000000</td>\n",
              "      <td>3.500000</td>\n",
              "      <td>3.500000</td>\n",
              "      <td>3.50000</td>\n",
              "      <td>3.500000</td>\n",
              "      <td>3.500000</td>\n",
              "      <td>1.189194e+09</td>\n",
              "      <td>9.794810e+08</td>\n",
              "      <td>1.433628e+08</td>\n",
              "    </tr>\n",
              "    <tr>\n",
              "      <th>50%</th>\n",
              "      <td>24942.500000</td>\n",
              "      <td>6.900000</td>\n",
              "      <td>17538.000000</td>\n",
              "      <td>1199.000000</td>\n",
              "      <td>4.000000</td>\n",
              "      <td>4.000000</td>\n",
              "      <td>4.00000</td>\n",
              "      <td>4.000000</td>\n",
              "      <td>4.000000</td>\n",
              "      <td>1.248150e+09</td>\n",
              "      <td>1.100009e+09</td>\n",
              "      <td>3.183264e+08</td>\n",
              "    </tr>\n",
              "    <tr>\n",
              "      <th>75%</th>\n",
              "      <td>37416.750000</td>\n",
              "      <td>9.400000</td>\n",
              "      <td>34146.000000</td>\n",
              "      <td>1315.000000</td>\n",
              "      <td>4.500000</td>\n",
              "      <td>4.500000</td>\n",
              "      <td>4.50000</td>\n",
              "      <td>4.500000</td>\n",
              "      <td>4.500000</td>\n",
              "      <td>1.291330e+09</td>\n",
              "      <td>1.274973e+09</td>\n",
              "      <td>4.388544e+08</td>\n",
              "    </tr>\n",
              "    <tr>\n",
              "      <th>max</th>\n",
              "      <td>49999.000000</td>\n",
              "      <td>57.700000</td>\n",
              "      <td>77207.000000</td>\n",
              "      <td>27797.000000</td>\n",
              "      <td>5.000000</td>\n",
              "      <td>5.000000</td>\n",
              "      <td>5.00000</td>\n",
              "      <td>5.000000</td>\n",
              "      <td>5.000000</td>\n",
              "      <td>1.326267e+09</td>\n",
              "      <td>3.627295e+09</td>\n",
              "      <td>7.148988e+08</td>\n",
              "    </tr>\n",
              "  </tbody>\n",
              "</table>\n",
              "</div>"
            ],
            "text/plain": [
              "              index      beer/ABV  ...  user/ageInSeconds  user/birthdayUnix\n",
              "count  37500.000000  37500.000000  ...       7.856000e+03       7.856000e+03\n",
              "mean   24951.887573      7.403725  ...       1.176705e+09       2.416303e+08\n",
              "std    14434.009669      2.318145  ...       3.375514e+08       3.375514e+08\n",
              "min        0.000000      0.100000  ...       7.034366e+08      -2.208960e+09\n",
              "25%    12422.500000      5.400000  ...       9.794810e+08       1.433628e+08\n",
              "50%    24942.500000      6.900000  ...       1.100009e+09       3.183264e+08\n",
              "75%    37416.750000      9.400000  ...       1.274973e+09       4.388544e+08\n",
              "max    49999.000000     57.700000  ...       3.627295e+09       7.148988e+08\n",
              "\n",
              "[8 rows x 12 columns]"
            ]
          },
          "metadata": {
            "tags": []
          },
          "execution_count": 4
        }
      ]
    },
    {
      "cell_type": "code",
      "metadata": {
        "id": "oIMkBmghxrdr",
        "colab_type": "code",
        "colab": {
          "base_uri": "https://localhost:8080/",
          "height": 459
        },
        "outputId": "4b8ccd91-379a-4dbd-e4d1-952af2c03146"
      },
      "source": [
        "df.info()"
      ],
      "execution_count": 5,
      "outputs": [
        {
          "output_type": "stream",
          "text": [
            "<class 'pandas.core.frame.DataFrame'>\n",
            "RangeIndex: 37500 entries, 0 to 37499\n",
            "Data columns (total 19 columns):\n",
            " #   Column             Non-Null Count  Dtype  \n",
            "---  ------             --------------  -----  \n",
            " 0   index              37500 non-null  int64  \n",
            " 1   beer/ABV           37500 non-null  float64\n",
            " 2   beer/beerId        37500 non-null  int64  \n",
            " 3   beer/brewerId      37500 non-null  int64  \n",
            " 4   beer/name          37500 non-null  object \n",
            " 5   beer/style         37500 non-null  object \n",
            " 6   review/appearance  37500 non-null  float64\n",
            " 7   review/aroma       37500 non-null  float64\n",
            " 8   review/overall     37500 non-null  float64\n",
            " 9   review/palate      37500 non-null  float64\n",
            " 10  review/taste       37500 non-null  float64\n",
            " 11  review/text        37490 non-null  object \n",
            " 12  review/timeStruct  37500 non-null  object \n",
            " 13  review/timeUnix    37500 non-null  int64  \n",
            " 14  user/ageInSeconds  7856 non-null   float64\n",
            " 15  user/birthdayRaw   7856 non-null   object \n",
            " 16  user/birthdayUnix  7856 non-null   float64\n",
            " 17  user/gender        15314 non-null  object \n",
            " 18  user/profileName   37495 non-null  object \n",
            "dtypes: float64(8), int64(4), object(7)\n",
            "memory usage: 5.4+ MB\n"
          ],
          "name": "stdout"
        }
      ]
    },
    {
      "cell_type": "code",
      "metadata": {
        "id": "LHwtLhC0GHjd",
        "colab_type": "code",
        "colab": {
          "base_uri": "https://localhost:8080/",
          "height": 949
        },
        "outputId": "5d0ceb8f-c5aa-441e-ea9c-51c8db175216"
      },
      "source": [
        "df1 = df.drop(['user/ageInSeconds', 'user/birthdayRaw', 'user/birthdayUnix',  'user/gender'], axis =1)\n",
        "df1"
      ],
      "execution_count": 6,
      "outputs": [
        {
          "output_type": "execute_result",
          "data": {
            "text/html": [
              "<div>\n",
              "<style scoped>\n",
              "    .dataframe tbody tr th:only-of-type {\n",
              "        vertical-align: middle;\n",
              "    }\n",
              "\n",
              "    .dataframe tbody tr th {\n",
              "        vertical-align: top;\n",
              "    }\n",
              "\n",
              "    .dataframe thead th {\n",
              "        text-align: right;\n",
              "    }\n",
              "</style>\n",
              "<table border=\"1\" class=\"dataframe\">\n",
              "  <thead>\n",
              "    <tr style=\"text-align: right;\">\n",
              "      <th></th>\n",
              "      <th>index</th>\n",
              "      <th>beer/ABV</th>\n",
              "      <th>beer/beerId</th>\n",
              "      <th>beer/brewerId</th>\n",
              "      <th>beer/name</th>\n",
              "      <th>beer/style</th>\n",
              "      <th>review/appearance</th>\n",
              "      <th>review/aroma</th>\n",
              "      <th>review/overall</th>\n",
              "      <th>review/palate</th>\n",
              "      <th>review/taste</th>\n",
              "      <th>review/text</th>\n",
              "      <th>review/timeStruct</th>\n",
              "      <th>review/timeUnix</th>\n",
              "      <th>user/profileName</th>\n",
              "    </tr>\n",
              "  </thead>\n",
              "  <tbody>\n",
              "    <tr>\n",
              "      <th>0</th>\n",
              "      <td>40163</td>\n",
              "      <td>5.00</td>\n",
              "      <td>46634</td>\n",
              "      <td>14338</td>\n",
              "      <td>Chiostro</td>\n",
              "      <td>Herbed / Spiced Beer</td>\n",
              "      <td>4.0</td>\n",
              "      <td>4.0</td>\n",
              "      <td>4.0</td>\n",
              "      <td>4.0</td>\n",
              "      <td>4.0</td>\n",
              "      <td>Pours a clouded gold with a thin white head. N...</td>\n",
              "      <td>{'min': 38, 'hour': 3, 'mday': 16, 'sec': 10, ...</td>\n",
              "      <td>1229398690</td>\n",
              "      <td>RblWthACoz</td>\n",
              "    </tr>\n",
              "    <tr>\n",
              "      <th>1</th>\n",
              "      <td>8135</td>\n",
              "      <td>11.00</td>\n",
              "      <td>3003</td>\n",
              "      <td>395</td>\n",
              "      <td>Bearded Pat's Barleywine</td>\n",
              "      <td>American Barleywine</td>\n",
              "      <td>4.0</td>\n",
              "      <td>3.5</td>\n",
              "      <td>3.5</td>\n",
              "      <td>3.5</td>\n",
              "      <td>3.0</td>\n",
              "      <td>12oz bottle into 8oz snifter.\\t\\tDeep ruby red...</td>\n",
              "      <td>{'min': 38, 'hour': 23, 'mday': 8, 'sec': 58, ...</td>\n",
              "      <td>1218238738</td>\n",
              "      <td>BeerSox</td>\n",
              "    </tr>\n",
              "    <tr>\n",
              "      <th>2</th>\n",
              "      <td>10529</td>\n",
              "      <td>4.70</td>\n",
              "      <td>961</td>\n",
              "      <td>365</td>\n",
              "      <td>Naughty Nellie's Ale</td>\n",
              "      <td>American Pale Ale (APA)</td>\n",
              "      <td>3.5</td>\n",
              "      <td>4.0</td>\n",
              "      <td>3.5</td>\n",
              "      <td>3.5</td>\n",
              "      <td>3.5</td>\n",
              "      <td>First enjoyed at the brewpub about 2 years ago...</td>\n",
              "      <td>{'min': 7, 'hour': 18, 'mday': 26, 'sec': 2, '...</td>\n",
              "      <td>1101492422</td>\n",
              "      <td>mschofield</td>\n",
              "    </tr>\n",
              "    <tr>\n",
              "      <th>3</th>\n",
              "      <td>44610</td>\n",
              "      <td>4.40</td>\n",
              "      <td>429</td>\n",
              "      <td>1</td>\n",
              "      <td>Pilsner Urquell</td>\n",
              "      <td>Czech Pilsener</td>\n",
              "      <td>3.0</td>\n",
              "      <td>3.0</td>\n",
              "      <td>2.5</td>\n",
              "      <td>3.0</td>\n",
              "      <td>3.0</td>\n",
              "      <td>First thing I noticed after pouring from green...</td>\n",
              "      <td>{'min': 7, 'hour': 1, 'mday': 20, 'sec': 5, 'y...</td>\n",
              "      <td>1308532025</td>\n",
              "      <td>molegar76</td>\n",
              "    </tr>\n",
              "    <tr>\n",
              "      <th>4</th>\n",
              "      <td>37062</td>\n",
              "      <td>4.40</td>\n",
              "      <td>4904</td>\n",
              "      <td>1417</td>\n",
              "      <td>Black Sheep Ale (Special)</td>\n",
              "      <td>English Pale Ale</td>\n",
              "      <td>4.0</td>\n",
              "      <td>3.0</td>\n",
              "      <td>3.0</td>\n",
              "      <td>3.5</td>\n",
              "      <td>2.5</td>\n",
              "      <td>A: pours an amber with a one finger head but o...</td>\n",
              "      <td>{'min': 51, 'hour': 6, 'mday': 12, 'sec': 48, ...</td>\n",
              "      <td>1299912708</td>\n",
              "      <td>Brewbro000</td>\n",
              "    </tr>\n",
              "    <tr>\n",
              "      <th>...</th>\n",
              "      <td>...</td>\n",
              "      <td>...</td>\n",
              "      <td>...</td>\n",
              "      <td>...</td>\n",
              "      <td>...</td>\n",
              "      <td>...</td>\n",
              "      <td>...</td>\n",
              "      <td>...</td>\n",
              "      <td>...</td>\n",
              "      <td>...</td>\n",
              "      <td>...</td>\n",
              "      <td>...</td>\n",
              "      <td>...</td>\n",
              "      <td>...</td>\n",
              "      <td>...</td>\n",
              "    </tr>\n",
              "    <tr>\n",
              "      <th>37495</th>\n",
              "      <td>35175</td>\n",
              "      <td>5.50</td>\n",
              "      <td>22450</td>\n",
              "      <td>3268</td>\n",
              "      <td>Blackberry Scottish-Style</td>\n",
              "      <td>Fruit / Vegetable Beer</td>\n",
              "      <td>4.0</td>\n",
              "      <td>3.5</td>\n",
              "      <td>3.5</td>\n",
              "      <td>3.5</td>\n",
              "      <td>3.5</td>\n",
              "      <td>12 oz brown longneck with no freshness dating....</td>\n",
              "      <td>{'min': 56, 'hour': 23, 'mday': 10, 'sec': 1, ...</td>\n",
              "      <td>1207871761</td>\n",
              "      <td>Redrover</td>\n",
              "    </tr>\n",
              "    <tr>\n",
              "      <th>37496</th>\n",
              "      <td>23666</td>\n",
              "      <td>8.50</td>\n",
              "      <td>7463</td>\n",
              "      <td>1199</td>\n",
              "      <td>Founders Dirty Bastard</td>\n",
              "      <td>Scotch Ale / Wee Heavy</td>\n",
              "      <td>4.5</td>\n",
              "      <td>4.0</td>\n",
              "      <td>3.5</td>\n",
              "      <td>4.5</td>\n",
              "      <td>4.5</td>\n",
              "      <td>A - A bright red with a maroon-amber hue; mini...</td>\n",
              "      <td>{'min': 45, 'hour': 5, 'mday': 10, 'sec': 14, ...</td>\n",
              "      <td>1263102314</td>\n",
              "      <td>jmerloni</td>\n",
              "    </tr>\n",
              "    <tr>\n",
              "      <th>37497</th>\n",
              "      <td>47720</td>\n",
              "      <td>4.75</td>\n",
              "      <td>1154</td>\n",
              "      <td>394</td>\n",
              "      <td>Stoudt's Fest</td>\n",
              "      <td>MÃ¤rzen / Oktoberfest</td>\n",
              "      <td>4.0</td>\n",
              "      <td>3.5</td>\n",
              "      <td>4.0</td>\n",
              "      <td>4.5</td>\n",
              "      <td>4.0</td>\n",
              "      <td>Sampled on tap at Redbones.\\t\\tThis marzen sty...</td>\n",
              "      <td>{'min': 3, 'hour': 1, 'mday': 25, 'sec': 36, '...</td>\n",
              "      <td>1067043816</td>\n",
              "      <td>UncleJimbo</td>\n",
              "    </tr>\n",
              "    <tr>\n",
              "      <th>37498</th>\n",
              "      <td>33233</td>\n",
              "      <td>11.20</td>\n",
              "      <td>19960</td>\n",
              "      <td>1199</td>\n",
              "      <td>Founders KBS (Kentucky Breakfast Stout)</td>\n",
              "      <td>American Double / Imperial Stout</td>\n",
              "      <td>4.0</td>\n",
              "      <td>4.0</td>\n",
              "      <td>4.0</td>\n",
              "      <td>5.0</td>\n",
              "      <td>5.0</td>\n",
              "      <td>Pours a black body with a brown head that very...</td>\n",
              "      <td>{'min': 52, 'hour': 19, 'mday': 29, 'sec': 33,...</td>\n",
              "      <td>1296330753</td>\n",
              "      <td>Stockfan42</td>\n",
              "    </tr>\n",
              "    <tr>\n",
              "      <th>37499</th>\n",
              "      <td>23758</td>\n",
              "      <td>8.50</td>\n",
              "      <td>7463</td>\n",
              "      <td>1199</td>\n",
              "      <td>Founders Dirty Bastard</td>\n",
              "      <td>Scotch Ale / Wee Heavy</td>\n",
              "      <td>4.0</td>\n",
              "      <td>4.0</td>\n",
              "      <td>4.0</td>\n",
              "      <td>4.5</td>\n",
              "      <td>4.0</td>\n",
              "      <td>A nice sweet, malty beer...nothing complex, ju...</td>\n",
              "      <td>{'min': 40, 'hour': 18, 'mday': 4, 'sec': 28, ...</td>\n",
              "      <td>1252089628</td>\n",
              "      <td>JayQue</td>\n",
              "    </tr>\n",
              "  </tbody>\n",
              "</table>\n",
              "<p>37500 rows × 15 columns</p>\n",
              "</div>"
            ],
            "text/plain": [
              "       index  beer/ABV  ...  review/timeUnix  user/profileName\n",
              "0      40163      5.00  ...       1229398690        RblWthACoz\n",
              "1       8135     11.00  ...       1218238738           BeerSox\n",
              "2      10529      4.70  ...       1101492422        mschofield\n",
              "3      44610      4.40  ...       1308532025         molegar76\n",
              "4      37062      4.40  ...       1299912708        Brewbro000\n",
              "...      ...       ...  ...              ...               ...\n",
              "37495  35175      5.50  ...       1207871761          Redrover\n",
              "37496  23666      8.50  ...       1263102314          jmerloni\n",
              "37497  47720      4.75  ...       1067043816        UncleJimbo\n",
              "37498  33233     11.20  ...       1296330753        Stockfan42\n",
              "37499  23758      8.50  ...       1252089628            JayQue\n",
              "\n",
              "[37500 rows x 15 columns]"
            ]
          },
          "metadata": {
            "tags": []
          },
          "execution_count": 6
        }
      ]
    },
    {
      "cell_type": "code",
      "metadata": {
        "id": "iczveDqkXmZC",
        "colab_type": "code",
        "colab": {
          "base_uri": "https://localhost:8080/",
          "height": 949
        },
        "outputId": "a82a86e3-389e-4ed4-eade-40290e2ad1ea"
      },
      "source": [
        "df2 = df1.dropna()\n",
        "df2"
      ],
      "execution_count": 7,
      "outputs": [
        {
          "output_type": "execute_result",
          "data": {
            "text/html": [
              "<div>\n",
              "<style scoped>\n",
              "    .dataframe tbody tr th:only-of-type {\n",
              "        vertical-align: middle;\n",
              "    }\n",
              "\n",
              "    .dataframe tbody tr th {\n",
              "        vertical-align: top;\n",
              "    }\n",
              "\n",
              "    .dataframe thead th {\n",
              "        text-align: right;\n",
              "    }\n",
              "</style>\n",
              "<table border=\"1\" class=\"dataframe\">\n",
              "  <thead>\n",
              "    <tr style=\"text-align: right;\">\n",
              "      <th></th>\n",
              "      <th>index</th>\n",
              "      <th>beer/ABV</th>\n",
              "      <th>beer/beerId</th>\n",
              "      <th>beer/brewerId</th>\n",
              "      <th>beer/name</th>\n",
              "      <th>beer/style</th>\n",
              "      <th>review/appearance</th>\n",
              "      <th>review/aroma</th>\n",
              "      <th>review/overall</th>\n",
              "      <th>review/palate</th>\n",
              "      <th>review/taste</th>\n",
              "      <th>review/text</th>\n",
              "      <th>review/timeStruct</th>\n",
              "      <th>review/timeUnix</th>\n",
              "      <th>user/profileName</th>\n",
              "    </tr>\n",
              "  </thead>\n",
              "  <tbody>\n",
              "    <tr>\n",
              "      <th>0</th>\n",
              "      <td>40163</td>\n",
              "      <td>5.00</td>\n",
              "      <td>46634</td>\n",
              "      <td>14338</td>\n",
              "      <td>Chiostro</td>\n",
              "      <td>Herbed / Spiced Beer</td>\n",
              "      <td>4.0</td>\n",
              "      <td>4.0</td>\n",
              "      <td>4.0</td>\n",
              "      <td>4.0</td>\n",
              "      <td>4.0</td>\n",
              "      <td>Pours a clouded gold with a thin white head. N...</td>\n",
              "      <td>{'min': 38, 'hour': 3, 'mday': 16, 'sec': 10, ...</td>\n",
              "      <td>1229398690</td>\n",
              "      <td>RblWthACoz</td>\n",
              "    </tr>\n",
              "    <tr>\n",
              "      <th>1</th>\n",
              "      <td>8135</td>\n",
              "      <td>11.00</td>\n",
              "      <td>3003</td>\n",
              "      <td>395</td>\n",
              "      <td>Bearded Pat's Barleywine</td>\n",
              "      <td>American Barleywine</td>\n",
              "      <td>4.0</td>\n",
              "      <td>3.5</td>\n",
              "      <td>3.5</td>\n",
              "      <td>3.5</td>\n",
              "      <td>3.0</td>\n",
              "      <td>12oz bottle into 8oz snifter.\\t\\tDeep ruby red...</td>\n",
              "      <td>{'min': 38, 'hour': 23, 'mday': 8, 'sec': 58, ...</td>\n",
              "      <td>1218238738</td>\n",
              "      <td>BeerSox</td>\n",
              "    </tr>\n",
              "    <tr>\n",
              "      <th>2</th>\n",
              "      <td>10529</td>\n",
              "      <td>4.70</td>\n",
              "      <td>961</td>\n",
              "      <td>365</td>\n",
              "      <td>Naughty Nellie's Ale</td>\n",
              "      <td>American Pale Ale (APA)</td>\n",
              "      <td>3.5</td>\n",
              "      <td>4.0</td>\n",
              "      <td>3.5</td>\n",
              "      <td>3.5</td>\n",
              "      <td>3.5</td>\n",
              "      <td>First enjoyed at the brewpub about 2 years ago...</td>\n",
              "      <td>{'min': 7, 'hour': 18, 'mday': 26, 'sec': 2, '...</td>\n",
              "      <td>1101492422</td>\n",
              "      <td>mschofield</td>\n",
              "    </tr>\n",
              "    <tr>\n",
              "      <th>3</th>\n",
              "      <td>44610</td>\n",
              "      <td>4.40</td>\n",
              "      <td>429</td>\n",
              "      <td>1</td>\n",
              "      <td>Pilsner Urquell</td>\n",
              "      <td>Czech Pilsener</td>\n",
              "      <td>3.0</td>\n",
              "      <td>3.0</td>\n",
              "      <td>2.5</td>\n",
              "      <td>3.0</td>\n",
              "      <td>3.0</td>\n",
              "      <td>First thing I noticed after pouring from green...</td>\n",
              "      <td>{'min': 7, 'hour': 1, 'mday': 20, 'sec': 5, 'y...</td>\n",
              "      <td>1308532025</td>\n",
              "      <td>molegar76</td>\n",
              "    </tr>\n",
              "    <tr>\n",
              "      <th>4</th>\n",
              "      <td>37062</td>\n",
              "      <td>4.40</td>\n",
              "      <td>4904</td>\n",
              "      <td>1417</td>\n",
              "      <td>Black Sheep Ale (Special)</td>\n",
              "      <td>English Pale Ale</td>\n",
              "      <td>4.0</td>\n",
              "      <td>3.0</td>\n",
              "      <td>3.0</td>\n",
              "      <td>3.5</td>\n",
              "      <td>2.5</td>\n",
              "      <td>A: pours an amber with a one finger head but o...</td>\n",
              "      <td>{'min': 51, 'hour': 6, 'mday': 12, 'sec': 48, ...</td>\n",
              "      <td>1299912708</td>\n",
              "      <td>Brewbro000</td>\n",
              "    </tr>\n",
              "    <tr>\n",
              "      <th>...</th>\n",
              "      <td>...</td>\n",
              "      <td>...</td>\n",
              "      <td>...</td>\n",
              "      <td>...</td>\n",
              "      <td>...</td>\n",
              "      <td>...</td>\n",
              "      <td>...</td>\n",
              "      <td>...</td>\n",
              "      <td>...</td>\n",
              "      <td>...</td>\n",
              "      <td>...</td>\n",
              "      <td>...</td>\n",
              "      <td>...</td>\n",
              "      <td>...</td>\n",
              "      <td>...</td>\n",
              "    </tr>\n",
              "    <tr>\n",
              "      <th>37495</th>\n",
              "      <td>35175</td>\n",
              "      <td>5.50</td>\n",
              "      <td>22450</td>\n",
              "      <td>3268</td>\n",
              "      <td>Blackberry Scottish-Style</td>\n",
              "      <td>Fruit / Vegetable Beer</td>\n",
              "      <td>4.0</td>\n",
              "      <td>3.5</td>\n",
              "      <td>3.5</td>\n",
              "      <td>3.5</td>\n",
              "      <td>3.5</td>\n",
              "      <td>12 oz brown longneck with no freshness dating....</td>\n",
              "      <td>{'min': 56, 'hour': 23, 'mday': 10, 'sec': 1, ...</td>\n",
              "      <td>1207871761</td>\n",
              "      <td>Redrover</td>\n",
              "    </tr>\n",
              "    <tr>\n",
              "      <th>37496</th>\n",
              "      <td>23666</td>\n",
              "      <td>8.50</td>\n",
              "      <td>7463</td>\n",
              "      <td>1199</td>\n",
              "      <td>Founders Dirty Bastard</td>\n",
              "      <td>Scotch Ale / Wee Heavy</td>\n",
              "      <td>4.5</td>\n",
              "      <td>4.0</td>\n",
              "      <td>3.5</td>\n",
              "      <td>4.5</td>\n",
              "      <td>4.5</td>\n",
              "      <td>A - A bright red with a maroon-amber hue; mini...</td>\n",
              "      <td>{'min': 45, 'hour': 5, 'mday': 10, 'sec': 14, ...</td>\n",
              "      <td>1263102314</td>\n",
              "      <td>jmerloni</td>\n",
              "    </tr>\n",
              "    <tr>\n",
              "      <th>37497</th>\n",
              "      <td>47720</td>\n",
              "      <td>4.75</td>\n",
              "      <td>1154</td>\n",
              "      <td>394</td>\n",
              "      <td>Stoudt's Fest</td>\n",
              "      <td>MÃ¤rzen / Oktoberfest</td>\n",
              "      <td>4.0</td>\n",
              "      <td>3.5</td>\n",
              "      <td>4.0</td>\n",
              "      <td>4.5</td>\n",
              "      <td>4.0</td>\n",
              "      <td>Sampled on tap at Redbones.\\t\\tThis marzen sty...</td>\n",
              "      <td>{'min': 3, 'hour': 1, 'mday': 25, 'sec': 36, '...</td>\n",
              "      <td>1067043816</td>\n",
              "      <td>UncleJimbo</td>\n",
              "    </tr>\n",
              "    <tr>\n",
              "      <th>37498</th>\n",
              "      <td>33233</td>\n",
              "      <td>11.20</td>\n",
              "      <td>19960</td>\n",
              "      <td>1199</td>\n",
              "      <td>Founders KBS (Kentucky Breakfast Stout)</td>\n",
              "      <td>American Double / Imperial Stout</td>\n",
              "      <td>4.0</td>\n",
              "      <td>4.0</td>\n",
              "      <td>4.0</td>\n",
              "      <td>5.0</td>\n",
              "      <td>5.0</td>\n",
              "      <td>Pours a black body with a brown head that very...</td>\n",
              "      <td>{'min': 52, 'hour': 19, 'mday': 29, 'sec': 33,...</td>\n",
              "      <td>1296330753</td>\n",
              "      <td>Stockfan42</td>\n",
              "    </tr>\n",
              "    <tr>\n",
              "      <th>37499</th>\n",
              "      <td>23758</td>\n",
              "      <td>8.50</td>\n",
              "      <td>7463</td>\n",
              "      <td>1199</td>\n",
              "      <td>Founders Dirty Bastard</td>\n",
              "      <td>Scotch Ale / Wee Heavy</td>\n",
              "      <td>4.0</td>\n",
              "      <td>4.0</td>\n",
              "      <td>4.0</td>\n",
              "      <td>4.5</td>\n",
              "      <td>4.0</td>\n",
              "      <td>A nice sweet, malty beer...nothing complex, ju...</td>\n",
              "      <td>{'min': 40, 'hour': 18, 'mday': 4, 'sec': 28, ...</td>\n",
              "      <td>1252089628</td>\n",
              "      <td>JayQue</td>\n",
              "    </tr>\n",
              "  </tbody>\n",
              "</table>\n",
              "<p>37485 rows × 15 columns</p>\n",
              "</div>"
            ],
            "text/plain": [
              "       index  beer/ABV  ...  review/timeUnix  user/profileName\n",
              "0      40163      5.00  ...       1229398690        RblWthACoz\n",
              "1       8135     11.00  ...       1218238738           BeerSox\n",
              "2      10529      4.70  ...       1101492422        mschofield\n",
              "3      44610      4.40  ...       1308532025         molegar76\n",
              "4      37062      4.40  ...       1299912708        Brewbro000\n",
              "...      ...       ...  ...              ...               ...\n",
              "37495  35175      5.50  ...       1207871761          Redrover\n",
              "37496  23666      8.50  ...       1263102314          jmerloni\n",
              "37497  47720      4.75  ...       1067043816        UncleJimbo\n",
              "37498  33233     11.20  ...       1296330753        Stockfan42\n",
              "37499  23758      8.50  ...       1252089628            JayQue\n",
              "\n",
              "[37485 rows x 15 columns]"
            ]
          },
          "metadata": {
            "tags": []
          },
          "execution_count": 7
        }
      ]
    },
    {
      "cell_type": "code",
      "metadata": {
        "id": "_-SVKVXVYLC9",
        "colab_type": "code",
        "colab": {
          "base_uri": "https://localhost:8080/",
          "height": 391
        },
        "outputId": "c512c772-dc92-4f5f-8f35-102988f906b9"
      },
      "source": [
        "df2.info()"
      ],
      "execution_count": 8,
      "outputs": [
        {
          "output_type": "stream",
          "text": [
            "<class 'pandas.core.frame.DataFrame'>\n",
            "Int64Index: 37485 entries, 0 to 37499\n",
            "Data columns (total 15 columns):\n",
            " #   Column             Non-Null Count  Dtype  \n",
            "---  ------             --------------  -----  \n",
            " 0   index              37485 non-null  int64  \n",
            " 1   beer/ABV           37485 non-null  float64\n",
            " 2   beer/beerId        37485 non-null  int64  \n",
            " 3   beer/brewerId      37485 non-null  int64  \n",
            " 4   beer/name          37485 non-null  object \n",
            " 5   beer/style         37485 non-null  object \n",
            " 6   review/appearance  37485 non-null  float64\n",
            " 7   review/aroma       37485 non-null  float64\n",
            " 8   review/overall     37485 non-null  float64\n",
            " 9   review/palate      37485 non-null  float64\n",
            " 10  review/taste       37485 non-null  float64\n",
            " 11  review/text        37485 non-null  object \n",
            " 12  review/timeStruct  37485 non-null  object \n",
            " 13  review/timeUnix    37485 non-null  int64  \n",
            " 14  user/profileName   37485 non-null  object \n",
            "dtypes: float64(6), int64(4), object(5)\n",
            "memory usage: 4.6+ MB\n"
          ],
          "name": "stdout"
        }
      ]
    },
    {
      "cell_type": "code",
      "metadata": {
        "id": "cmRRGcFQf0p1",
        "colab_type": "code",
        "colab": {
          "base_uri": "https://localhost:8080/",
          "height": 297
        },
        "outputId": "aeb69485-81d0-4e45-d93a-43cb55545eae"
      },
      "source": [
        "df2.describe()"
      ],
      "execution_count": 9,
      "outputs": [
        {
          "output_type": "execute_result",
          "data": {
            "text/html": [
              "<div>\n",
              "<style scoped>\n",
              "    .dataframe tbody tr th:only-of-type {\n",
              "        vertical-align: middle;\n",
              "    }\n",
              "\n",
              "    .dataframe tbody tr th {\n",
              "        vertical-align: top;\n",
              "    }\n",
              "\n",
              "    .dataframe thead th {\n",
              "        text-align: right;\n",
              "    }\n",
              "</style>\n",
              "<table border=\"1\" class=\"dataframe\">\n",
              "  <thead>\n",
              "    <tr style=\"text-align: right;\">\n",
              "      <th></th>\n",
              "      <th>index</th>\n",
              "      <th>beer/ABV</th>\n",
              "      <th>beer/beerId</th>\n",
              "      <th>beer/brewerId</th>\n",
              "      <th>review/appearance</th>\n",
              "      <th>review/aroma</th>\n",
              "      <th>review/overall</th>\n",
              "      <th>review/palate</th>\n",
              "      <th>review/taste</th>\n",
              "      <th>review/timeUnix</th>\n",
              "    </tr>\n",
              "  </thead>\n",
              "  <tbody>\n",
              "    <tr>\n",
              "      <th>count</th>\n",
              "      <td>37485.000000</td>\n",
              "      <td>37485.000000</td>\n",
              "      <td>37485.000000</td>\n",
              "      <td>37485.000000</td>\n",
              "      <td>37485.000000</td>\n",
              "      <td>37485.000000</td>\n",
              "      <td>37485.000000</td>\n",
              "      <td>37485.000000</td>\n",
              "      <td>37485.000000</td>\n",
              "      <td>3.748500e+04</td>\n",
              "    </tr>\n",
              "    <tr>\n",
              "      <th>mean</th>\n",
              "      <td>24951.304655</td>\n",
              "      <td>7.403323</td>\n",
              "      <td>21861.783273</td>\n",
              "      <td>3036.541897</td>\n",
              "      <td>3.899907</td>\n",
              "      <td>3.873096</td>\n",
              "      <td>3.889182</td>\n",
              "      <td>3.854689</td>\n",
              "      <td>3.922222</td>\n",
              "      <td>1.232791e+09</td>\n",
              "    </tr>\n",
              "    <tr>\n",
              "      <th>std</th>\n",
              "      <td>14434.301111</td>\n",
              "      <td>2.317991</td>\n",
              "      <td>18924.987319</td>\n",
              "      <td>5123.195293</td>\n",
              "      <td>0.588705</td>\n",
              "      <td>0.680798</td>\n",
              "      <td>0.700410</td>\n",
              "      <td>0.667995</td>\n",
              "      <td>0.716477</td>\n",
              "      <td>7.191560e+07</td>\n",
              "    </tr>\n",
              "    <tr>\n",
              "      <th>min</th>\n",
              "      <td>0.000000</td>\n",
              "      <td>0.100000</td>\n",
              "      <td>175.000000</td>\n",
              "      <td>1.000000</td>\n",
              "      <td>0.000000</td>\n",
              "      <td>1.000000</td>\n",
              "      <td>0.000000</td>\n",
              "      <td>1.000000</td>\n",
              "      <td>1.000000</td>\n",
              "      <td>9.262944e+08</td>\n",
              "    </tr>\n",
              "    <tr>\n",
              "      <th>25%</th>\n",
              "      <td>12421.000000</td>\n",
              "      <td>5.400000</td>\n",
              "      <td>5441.000000</td>\n",
              "      <td>395.000000</td>\n",
              "      <td>3.500000</td>\n",
              "      <td>3.500000</td>\n",
              "      <td>3.500000</td>\n",
              "      <td>3.500000</td>\n",
              "      <td>3.500000</td>\n",
              "      <td>1.189177e+09</td>\n",
              "    </tr>\n",
              "    <tr>\n",
              "      <th>50%</th>\n",
              "      <td>24941.000000</td>\n",
              "      <td>6.900000</td>\n",
              "      <td>17538.000000</td>\n",
              "      <td>1199.000000</td>\n",
              "      <td>4.000000</td>\n",
              "      <td>4.000000</td>\n",
              "      <td>4.000000</td>\n",
              "      <td>4.000000</td>\n",
              "      <td>4.000000</td>\n",
              "      <td>1.248158e+09</td>\n",
              "    </tr>\n",
              "    <tr>\n",
              "      <th>75%</th>\n",
              "      <td>37416.000000</td>\n",
              "      <td>9.400000</td>\n",
              "      <td>34146.000000</td>\n",
              "      <td>1315.000000</td>\n",
              "      <td>4.500000</td>\n",
              "      <td>4.500000</td>\n",
              "      <td>4.500000</td>\n",
              "      <td>4.500000</td>\n",
              "      <td>4.500000</td>\n",
              "      <td>1.291335e+09</td>\n",
              "    </tr>\n",
              "    <tr>\n",
              "      <th>max</th>\n",
              "      <td>49999.000000</td>\n",
              "      <td>57.700000</td>\n",
              "      <td>77207.000000</td>\n",
              "      <td>27797.000000</td>\n",
              "      <td>5.000000</td>\n",
              "      <td>5.000000</td>\n",
              "      <td>5.000000</td>\n",
              "      <td>5.000000</td>\n",
              "      <td>5.000000</td>\n",
              "      <td>1.326267e+09</td>\n",
              "    </tr>\n",
              "  </tbody>\n",
              "</table>\n",
              "</div>"
            ],
            "text/plain": [
              "              index      beer/ABV  ...  review/taste  review/timeUnix\n",
              "count  37485.000000  37485.000000  ...  37485.000000     3.748500e+04\n",
              "mean   24951.304655      7.403323  ...      3.922222     1.232791e+09\n",
              "std    14434.301111      2.317991  ...      0.716477     7.191560e+07\n",
              "min        0.000000      0.100000  ...      1.000000     9.262944e+08\n",
              "25%    12421.000000      5.400000  ...      3.500000     1.189177e+09\n",
              "50%    24941.000000      6.900000  ...      4.000000     1.248158e+09\n",
              "75%    37416.000000      9.400000  ...      4.500000     1.291335e+09\n",
              "max    49999.000000     57.700000  ...      5.000000     1.326267e+09\n",
              "\n",
              "[8 rows x 10 columns]"
            ]
          },
          "metadata": {
            "tags": []
          },
          "execution_count": 9
        }
      ]
    },
    {
      "cell_type": "code",
      "metadata": {
        "id": "ktBn9dWZlFGW",
        "colab_type": "code",
        "colab": {
          "base_uri": "https://localhost:8080/",
          "height": 255
        },
        "outputId": "34b35810-7527-4c8a-e383-0e625dc25086"
      },
      "source": [
        "df2['beer/ABV'].unique()"
      ],
      "execution_count": 10,
      "outputs": [
        {
          "output_type": "execute_result",
          "data": {
            "text/plain": [
              "array([ 5.  , 11.  ,  4.7 ,  4.4 , 10.  , 12.6 ,  8.4 ,  9.  ,  6.2 ,\n",
              "        8.5 , 10.5 , 11.2 ,  7.  ,  8.3 ,  6.5 ,  9.2 ,  7.2 ,  6.  ,\n",
              "        5.5 , 12.  ,  6.1 ,  4.75,  5.1 ,  8.6 ,  6.6 ,  6.9 ,  4.2 ,\n",
              "        6.8 ,  5.4 ,  7.75, 10.2 ,  9.4 ,  4.8 ,  7.7 ,  9.5 ,  7.82,\n",
              "        5.3 ,  4.3 ,  3.  ,  8.  , 10.6 ,  5.9 ,  6.7 ,  5.2 ,  4.19,\n",
              "        5.7 ,  4.5 ,  3.8 ,  4.6 ,  3.5 ,  4.  ,  4.9 ,  8.1 ,  9.8 ,\n",
              "        5.6 ,  5.8 ,  8.2 ,  6.3 ,  7.6 ,  5.79,  7.5 , 14.  , 12.5 ,\n",
              "       10.8 ,  7.4 , 13.  ,  6.4 ,  7.1 , 10.4 ,  9.1 , 11.1 ,  5.59,\n",
              "       15.  ,  3.75,  5.25,  5.11, 11.3 ,  7.3 ,  3.6 ,  8.9 ,  8.8 ,\n",
              "        2.4 ,  9.7 , 10.9 ,  2.2 ,  9.9 ,  4.1 ,  3.9 ,  9.6 ,  1.5 ,\n",
              "       10.75, 10.25, 11.5 ,  5.75,  7.8 ,  3.1 ,  4.55,  2.5 ,  7.9 ,\n",
              "        4.25, 11.9 ,  3.7 , 39.44, 16.  , 12.9 , 10.3 ,  0.5 ,  9.3 ,\n",
              "        2.8 ,  8.7 ,  5.47,  6.25,  4.37,  8.25,  0.1 ,  3.2 ,  7.26,\n",
              "        7.25, 14.5 , 43.  ,  8.85,  6.32,  3.4 , 12.8 , 57.7 , 30.86])"
            ]
          },
          "metadata": {
            "tags": []
          },
          "execution_count": 10
        }
      ]
    },
    {
      "cell_type": "code",
      "metadata": {
        "id": "VP6KNccNha8F",
        "colab_type": "code",
        "colab": {
          "base_uri": "https://localhost:8080/",
          "height": 221
        },
        "outputId": "d1f1ff5b-37a5-4ee7-fbd3-02fee001b190"
      },
      "source": [
        "#df2['beer/ABV'].describe()\n",
        "df2['beer/ABV'].value_counts()"
      ],
      "execution_count": 11,
      "outputs": [
        {
          "output_type": "execute_result",
          "data": {
            "text/plain": [
              "6.50     2095\n",
              "5.00     2014\n",
              "8.30     1889\n",
              "6.60     1848\n",
              "9.40     1846\n",
              "         ... \n",
              "3.75        1\n",
              "57.70       1\n",
              "3.20        1\n",
              "14.50       1\n",
              "10.30       1\n",
              "Name: beer/ABV, Length: 126, dtype: int64"
            ]
          },
          "metadata": {
            "tags": []
          },
          "execution_count": 11
        }
      ]
    },
    {
      "cell_type": "code",
      "metadata": {
        "id": "ZEI-6oTgoKn9",
        "colab_type": "code",
        "colab": {
          "base_uri": "https://localhost:8080/",
          "height": 306
        },
        "outputId": "b76f87fd-bd85-4f45-8d4a-c69153cf6dca"
      },
      "source": [
        "df2.groupby('beer/ABV').size().sort_values().tail(15)"
      ],
      "execution_count": 12,
      "outputs": [
        {
          "output_type": "execute_result",
          "data": {
            "text/plain": [
              "beer/ABV\n",
              "10.0     899\n",
              "7.0     1062\n",
              "7.2     1132\n",
              "10.5    1149\n",
              "5.5     1191\n",
              "4.4     1340\n",
              "8.5     1348\n",
              "11.2    1438\n",
              "12.0    1499\n",
              "5.4     1711\n",
              "9.4     1846\n",
              "6.6     1848\n",
              "8.3     1889\n",
              "5.0     2014\n",
              "6.5     2095\n",
              "dtype: int64"
            ]
          },
          "metadata": {
            "tags": []
          },
          "execution_count": 12
        }
      ]
    },
    {
      "cell_type": "code",
      "metadata": {
        "id": "Cqzgv_iCnx0I",
        "colab_type": "code",
        "colab": {
          "base_uri": "https://localhost:8080/",
          "height": 282
        },
        "outputId": "430733d9-6ac1-4967-e3c4-5fa6fa2adfc2"
      },
      "source": [
        "sns.distplot(df2.groupby('beer/ABV').size().sort_values())"
      ],
      "execution_count": 16,
      "outputs": [
        {
          "output_type": "execute_result",
          "data": {
            "text/plain": [
              "<matplotlib.axes._subplots.AxesSubplot at 0x7f80cb785eb8>"
            ]
          },
          "metadata": {
            "tags": []
          },
          "execution_count": 16
        },
        {
          "output_type": "display_data",
          "data": {
            "image/png": "[encoded data removed]",
            "text/plain": [
              "<Figure size 432x288 with 1 Axes>"
            ]
          },
          "metadata": {
            "tags": [],
            "needs_background": "light"
          }
        }
      ]
    },
    {
      "cell_type": "code",
      "metadata": {
        "id": "qf2GuhCQuo6D",
        "colab_type": "code",
        "colab": {
          "base_uri": "https://localhost:8080/",
          "height": 34
        },
        "outputId": "df1fbace-f098-4246-e42b-c44269882d9f"
      },
      "source": [
        "df2['beer/beerId'].unique()"
      ],
      "execution_count": 17,
      "outputs": [
        {
          "output_type": "execute_result",
          "data": {
            "text/plain": [
              "array([46634,  3003,   961, ..., 49959, 71810, 29697])"
            ]
          },
          "metadata": {
            "tags": []
          },
          "execution_count": 17
        }
      ]
    },
    {
      "cell_type": "code",
      "metadata": {
        "id": "ZuTSX2hM4xhS",
        "colab_type": "code",
        "colab": {
          "base_uri": "https://localhost:8080/",
          "height": 221
        },
        "outputId": "3a4913ea-39ac-4fc0-d1ff-a870661bcb40"
      },
      "source": [
        "df2['beer/beerId'].value_counts()"
      ],
      "execution_count": 18,
      "outputs": [
        {
          "output_type": "execute_result",
          "data": {
            "text/plain": [
              "11757    1882\n",
              "19960    1438\n",
              "5441     1063\n",
              "16074    1051\n",
              "7463      983\n",
              "         ... \n",
              "63735       1\n",
              "26853       1\n",
              "42273       1\n",
              "41116       1\n",
              "67406       1\n",
              "Name: beer/beerId, Length: 1731, dtype: int64"
            ]
          },
          "metadata": {
            "tags": []
          },
          "execution_count": 18
        }
      ]
    },
    {
      "cell_type": "code",
      "metadata": {
        "id": "oOxSJ8CHvAYT",
        "colab_type": "code",
        "colab": {
          "base_uri": "https://localhost:8080/",
          "height": 136
        },
        "outputId": "d9e5257e-403d-40ca-b749-0f1aca6bec2e"
      },
      "source": [
        "df2.groupby('beer/beerId').size().sort_values().tail(5)"
      ],
      "execution_count": 19,
      "outputs": [
        {
          "output_type": "execute_result",
          "data": {
            "text/plain": [
              "beer/beerId\n",
              "7463      983\n",
              "16074    1051\n",
              "5441     1063\n",
              "19960    1438\n",
              "11757    1882\n",
              "dtype: int64"
            ]
          },
          "metadata": {
            "tags": []
          },
          "execution_count": 19
        }
      ]
    },
    {
      "cell_type": "code",
      "metadata": {
        "id": "7EHNPkN-v7Qt",
        "colab_type": "code",
        "colab": {
          "base_uri": "https://localhost:8080/",
          "height": 282
        },
        "outputId": "a1c2f1fc-0e7e-49f6-c100-b45bf663b324"
      },
      "source": [
        "sns.distplot(df2.groupby('beer/beerId').size().sort_values())"
      ],
      "execution_count": 20,
      "outputs": [
        {
          "output_type": "execute_result",
          "data": {
            "text/plain": [
              "<matplotlib.axes._subplots.AxesSubplot at 0x7f80cb7b4f60>"
            ]
          },
          "metadata": {
            "tags": []
          },
          "execution_count": 20
        },
        {
          "output_type": "display_data",
          "data": {
            "image/png": "[encoded data removed]",
            "text/plain": [
              "<Figure size 432x288 with 1 Axes>"
            ]
          },
          "metadata": {
            "tags": [],
            "needs_background": "light"
          }
        }
      ]
    },
    {
      "cell_type": "code",
      "metadata": {
        "id": "oKauVfDGxpcC",
        "colab_type": "code",
        "colab": {
          "base_uri": "https://localhost:8080/",
          "height": 425
        },
        "outputId": "a95071d5-4b90-42b2-9e24-7ac3cd0b824e"
      },
      "source": [
        "df2['beer/brewerId'].unique()"
      ],
      "execution_count": 21,
      "outputs": [
        {
          "output_type": "execute_result",
          "data": {
            "text/plain": [
              "array([14338,   395,   365,     1,  1417,    14, 14879,   394,  1386,\n",
              "        1199,  6277, 16386,  3268,  1075, 11863, 27797,   263,  9020,\n",
              "        1315,   807,    60,   568, 12224,   453, 24445, 10541,  1303,\n",
              "         163,   577, 13228, 13831, 26990,   936, 23246,  2098,  5970,\n",
              "         765,  3351, 21516,  2446,  3282, 14756,  2600,  1254,  3403,\n",
              "        8802,  1616,  2916,  2647, 13397,   850,  5430,  6272,   289,\n",
              "        7402, 16994,  2055,  9370,  1497, 16791,  2414, 20638,  9816,\n",
              "       21138,  5500, 24486, 22167, 20658, 11203, 23020,  1068, 18012,\n",
              "       24447, 20268, 21590,  5313,  5049,  6513,   860,  7091,  1482,\n",
              "       24162,  1454,  2188,  2554, 15636,  1413, 13905, 16517,  2464,\n",
              "       17285, 21841,  2430,  1463,  6245, 14649,  7536,   576, 13670,\n",
              "       26946, 26983, 12003,   885,  2100, 21865, 22430,  9347, 14365,\n",
              "       11715, 10103,  2412,  2724, 16859, 11710, 20988,  7104, 24757,\n",
              "        2310, 16269,  2850,  2906, 16890, 25949, 23982,  5321,   971,\n",
              "       23082, 27021,  5510, 12907,  5246,  1381, 10325,  8775,  3407,\n",
              "        6836,  3512,  3965, 14484, 16050,  5514, 10774,  1289,   574,\n",
              "       18816, 24477,  4103,  7088,  2810,  5752, 26816, 25684,  1917,\n",
              "       18847, 24892,  5095, 26384,  5007, 26612,  4955,  4898,  5892,\n",
              "        7732, 23739, 18185, 14003, 17212, 15527,   670, 13614,  8685,\n",
              "       17783,  1487, 25484, 10324, 11084,  5319,  2618,  3207, 18225,\n",
              "        7345,  1127, 16321,  7601,  2804, 24517, 11159, 24748, 10818,\n",
              "       16041,  3701,   564, 17293, 16319, 10154, 18636, 15607, 27133,\n",
              "       23468, 10950, 16863, 15610,  3631, 15737, 13892, 26409,  7314,\n",
              "       27079,  3408, 25953,  3524, 16323])"
            ]
          },
          "metadata": {
            "tags": []
          },
          "execution_count": 21
        }
      ]
    },
    {
      "cell_type": "code",
      "metadata": {
        "id": "O1NGDD8ryBI2",
        "colab_type": "code",
        "colab": {
          "base_uri": "https://localhost:8080/",
          "height": 221
        },
        "outputId": "63c851e5-1fd5-41da-f185-360aa8f2a9c6"
      },
      "source": [
        "df2['beer/brewerId'].value_counts()"
      ],
      "execution_count": 22,
      "outputs": [
        {
          "output_type": "execute_result",
          "data": {
            "text/plain": [
              "1199     14968\n",
              "394       2936\n",
              "14879     2349\n",
              "263       1809\n",
              "3268      1277\n",
              "         ...  \n",
              "27133        1\n",
              "15607        1\n",
              "3207         1\n",
              "3408         1\n",
              "17783        1\n",
              "Name: beer/brewerId, Length: 212, dtype: int64"
            ]
          },
          "metadata": {
            "tags": []
          },
          "execution_count": 22
        }
      ]
    },
    {
      "cell_type": "code",
      "metadata": {
        "id": "PMMJFJowzLyk",
        "colab_type": "code",
        "colab": {
          "base_uri": "https://localhost:8080/",
          "height": 282
        },
        "outputId": "579868ed-c4e3-4e30-82d9-b7f617c35145"
      },
      "source": [
        "sns.distplot(df2.groupby('beer/brewerId').size().sort_values())"
      ],
      "execution_count": 23,
      "outputs": [
        {
          "output_type": "execute_result",
          "data": {
            "text/plain": [
              "<matplotlib.axes._subplots.AxesSubplot at 0x7f80cb680470>"
            ]
          },
          "metadata": {
            "tags": []
          },
          "execution_count": 23
        },
        {
          "output_type": "display_data",
          "data": {
            "image/png": "[encoded data removed]",
            "text/plain": [
              "<Figure size 432x288 with 1 Axes>"
            ]
          },
          "metadata": {
            "tags": [],
            "needs_background": "light"
          }
        }
      ]
    },
    {
      "cell_type": "code",
      "metadata": {
        "id": "V91jWNQK4ALi",
        "colab_type": "code",
        "colab": {
          "base_uri": "https://localhost:8080/",
          "height": 68
        },
        "outputId": "bf9735c3-21e8-4d78-819e-76af6e5679d5"
      },
      "source": [
        "df2['beer/name'].unique()\n"
      ],
      "execution_count": 24,
      "outputs": [
        {
          "output_type": "execute_result",
          "data": {
            "text/plain": [
              "array(['Chiostro', \"Bearded Pat's Barleywine\", \"Naughty Nellie's Ale\",\n",
              "       ..., 'Pszeniczne', 'Cauldron Brew',\n",
              "       'MoJo Belgian Style Abbey Dubbel'], dtype=object)"
            ]
          },
          "metadata": {
            "tags": []
          },
          "execution_count": 24
        }
      ]
    },
    {
      "cell_type": "code",
      "metadata": {
        "id": "XbuYQft94X5P",
        "colab_type": "code",
        "colab": {
          "base_uri": "https://localhost:8080/",
          "height": 221
        },
        "outputId": "45e92ff3-a5df-48d9-fc44-3e6237ccd30b"
      },
      "source": [
        "df2['beer/name'].value_counts()"
      ],
      "execution_count": 25,
      "outputs": [
        {
          "output_type": "execute_result",
          "data": {
            "text/plain": [
              "Founders Breakfast Stout                   1882\n",
              "Founders KBS (Kentucky Breakfast Stout)    1438\n",
              "Founders Centennial IPA                    1063\n",
              "Founders Red's Rye PA                      1051\n",
              "Founders Dirty Bastard                      983\n",
              "                                           ... \n",
              "Gemini Double Trouble                         1\n",
              "Scarampola Nivura                             1\n",
              "Dubble Overtime                               1\n",
              "Devanha Scottish XXX Ale                      1\n",
              "LIDO GaiÂais                                 1\n",
              "Name: beer/name, Length: 1688, dtype: int64"
            ]
          },
          "metadata": {
            "tags": []
          },
          "execution_count": 25
        }
      ]
    },
    {
      "cell_type": "code",
      "metadata": {
        "id": "NFfbCsOW4fqg",
        "colab_type": "code",
        "colab": {
          "base_uri": "https://localhost:8080/",
          "height": 282
        },
        "outputId": "7067d17f-07db-49f3-c7ae-936c53729ee5"
      },
      "source": [
        "sns.distplot(df2.groupby('beer/name').size().sort_values())"
      ],
      "execution_count": 26,
      "outputs": [
        {
          "output_type": "execute_result",
          "data": {
            "text/plain": [
              "<matplotlib.axes._subplots.AxesSubplot at 0x7f80cb585400>"
            ]
          },
          "metadata": {
            "tags": []
          },
          "execution_count": 26
        },
        {
          "output_type": "display_data",
          "data": {
            "image/png": "[encoded data removed]",
            "text/plain": [
              "<Figure size 432x288 with 1 Axes>"
            ]
          },
          "metadata": {
            "tags": [],
            "needs_background": "light"
          }
        }
      ]
    },
    {
      "cell_type": "code",
      "metadata": {
        "id": "fxTcw9w_lC3G",
        "colab_type": "code",
        "colab": {}
      },
      "source": [
        "import spacy \n",
        "en_nlp = spacy.load('en')\n",
        "def custom_tokenizer(document):\n",
        "    doc_spacy = en_nlp(document)\n",
        "    return [token.lemma_ for token in doc_spacy]"
      ],
      "execution_count": 30,
      "outputs": []
    },
    {
      "cell_type": "code",
      "metadata": {
        "id": "TKdBq3U2koUf",
        "colab_type": "code",
        "colab": {
          "base_uri": "https://localhost:8080/",
          "height": 419
        },
        "outputId": "df391fb6-4a2a-4a86-aae9-c478ac74b706"
      },
      "source": [
        "tfidf2 = TfidfVectorizer(strip_accents='unicode',lowercase=True,ngram_range=(1,2),max_df=0.7,min_df=5,tokenizer = custom_tokenizer) \n",
        "\n",
        "genre_sparse_matrix = tfidf2.fit_transform(df2['beer/name'])\n",
        "\n",
        "ts2= TruncatedSVD(n_components = 3)\n",
        "genre_features = ts2.fit_transform(genre_sparse_matrix)\n",
        "\n",
        "#genre_cols = ['Genre'+str(i) for i in range(3)]\n",
        "# genre_cols\n",
        "\n",
        "df_new = pd.DataFrame(genre_features)\n",
        "\n",
        "df_new"
      ],
      "execution_count": 31,
      "outputs": [
        {
          "output_type": "execute_result",
          "data": {
            "text/html": [
              "<div>\n",
              "<style scoped>\n",
              "    .dataframe tbody tr th:only-of-type {\n",
              "        vertical-align: middle;\n",
              "    }\n",
              "\n",
              "    .dataframe tbody tr th {\n",
              "        vertical-align: top;\n",
              "    }\n",
              "\n",
              "    .dataframe thead th {\n",
              "        text-align: right;\n",
              "    }\n",
              "</style>\n",
              "<table border=\"1\" class=\"dataframe\">\n",
              "  <thead>\n",
              "    <tr style=\"text-align: right;\">\n",
              "      <th></th>\n",
              "      <th>0</th>\n",
              "      <th>1</th>\n",
              "      <th>2</th>\n",
              "    </tr>\n",
              "  </thead>\n",
              "  <tbody>\n",
              "    <tr>\n",
              "      <th>0</th>\n",
              "      <td>1.314149e-11</td>\n",
              "      <td>8.902600e-11</td>\n",
              "      <td>3.828934e-10</td>\n",
              "    </tr>\n",
              "    <tr>\n",
              "      <th>1</th>\n",
              "      <td>4.306982e-03</td>\n",
              "      <td>2.392792e-02</td>\n",
              "      <td>1.924119e-02</td>\n",
              "    </tr>\n",
              "    <tr>\n",
              "      <th>2</th>\n",
              "      <td>9.045189e-03</td>\n",
              "      <td>4.958613e-02</td>\n",
              "      <td>6.975018e-02</td>\n",
              "    </tr>\n",
              "    <tr>\n",
              "      <th>3</th>\n",
              "      <td>9.453647e-05</td>\n",
              "      <td>-4.273333e-03</td>\n",
              "      <td>1.940110e-03</td>\n",
              "    </tr>\n",
              "    <tr>\n",
              "      <th>4</th>\n",
              "      <td>5.351434e-02</td>\n",
              "      <td>8.930816e-03</td>\n",
              "      <td>1.730542e-01</td>\n",
              "    </tr>\n",
              "    <tr>\n",
              "      <th>...</th>\n",
              "      <td>...</td>\n",
              "      <td>...</td>\n",
              "      <td>...</td>\n",
              "    </tr>\n",
              "    <tr>\n",
              "      <th>37480</th>\n",
              "      <td>2.315024e-03</td>\n",
              "      <td>5.109377e-03</td>\n",
              "      <td>-5.227852e-03</td>\n",
              "    </tr>\n",
              "    <tr>\n",
              "      <th>37481</th>\n",
              "      <td>1.670805e-01</td>\n",
              "      <td>4.872200e-01</td>\n",
              "      <td>-1.708501e-01</td>\n",
              "    </tr>\n",
              "    <tr>\n",
              "      <th>37482</th>\n",
              "      <td>1.417782e-02</td>\n",
              "      <td>6.410484e-02</td>\n",
              "      <td>9.157604e-02</td>\n",
              "    </tr>\n",
              "    <tr>\n",
              "      <th>37483</th>\n",
              "      <td>6.901627e-01</td>\n",
              "      <td>-2.692399e-01</td>\n",
              "      <td>4.643609e-01</td>\n",
              "    </tr>\n",
              "    <tr>\n",
              "      <th>37484</th>\n",
              "      <td>1.670805e-01</td>\n",
              "      <td>4.872200e-01</td>\n",
              "      <td>-1.708501e-01</td>\n",
              "    </tr>\n",
              "  </tbody>\n",
              "</table>\n",
              "<p>37485 rows × 3 columns</p>\n",
              "</div>"
            ],
            "text/plain": [
              "                  0             1             2\n",
              "0      1.314149e-11  8.902600e-11  3.828934e-10\n",
              "1      4.306982e-03  2.392792e-02  1.924119e-02\n",
              "2      9.045189e-03  4.958613e-02  6.975018e-02\n",
              "3      9.453647e-05 -4.273333e-03  1.940110e-03\n",
              "4      5.351434e-02  8.930816e-03  1.730542e-01\n",
              "...             ...           ...           ...\n",
              "37480  2.315024e-03  5.109377e-03 -5.227852e-03\n",
              "37481  1.670805e-01  4.872200e-01 -1.708501e-01\n",
              "37482  1.417782e-02  6.410484e-02  9.157604e-02\n",
              "37483  6.901627e-01 -2.692399e-01  4.643609e-01\n",
              "37484  1.670805e-01  4.872200e-01 -1.708501e-01\n",
              "\n",
              "[37485 rows x 3 columns]"
            ]
          },
          "metadata": {
            "tags": []
          },
          "execution_count": 31
        }
      ]
    },
    {
      "cell_type": "code",
      "metadata": {
        "id": "Ujca_kWe5SRh",
        "colab_type": "code",
        "colab": {
          "base_uri": "https://localhost:8080/",
          "height": 612
        },
        "outputId": "024c4618-426d-45a7-ab21-8e225896a416"
      },
      "source": [
        "df2['beer/style'].unique()\n"
      ],
      "execution_count": 32,
      "outputs": [
        {
          "output_type": "execute_result",
          "data": {
            "text/plain": [
              "array(['Herbed / Spiced Beer', 'American Barleywine',\n",
              "       'American Pale Ale (APA)', 'Czech Pilsener', 'English Pale Ale',\n",
              "       'Russian Imperial Stout', 'American Wild Ale', 'Pumpkin Ale',\n",
              "       'English Barleywine', 'American IPA', 'Scotch Ale / Wee Heavy',\n",
              "       'American Double / Imperial Stout', 'Euro Pale Lager',\n",
              "       'Maibock / Helles Bock', 'American Amber / Red Ale', 'Rye Beer',\n",
              "       'American Double / Imperial IPA', 'MÃ¤rzen / Oktoberfest',\n",
              "       'Fruit / Vegetable Beer', 'Witbier', 'Light Lager', 'Rauchbier',\n",
              "       'American Porter', 'Hefeweizen',\n",
              "       'Extra Special / Strong Bitter (ESB)', 'Wheatwine',\n",
              "       'English Strong Ale', 'Braggot', 'Euro Strong Lager',\n",
              "       'Munich Helles Lager', 'English India Pale Ale (IPA)', 'Altbier',\n",
              "       'Doppelbock', 'American Brown Ale', 'Munich Dunkel Lager',\n",
              "       'Irish Dry Stout', 'KÃ¶lsch', 'Foreign / Export Stout',\n",
              "       'Cream Ale', 'Lambic - Unblended', 'Scottish Ale', 'Baltic Porter',\n",
              "       'Belgian IPA', 'Old Ale', 'German Pilsener', 'Bock',\n",
              "       'English Brown Ale', 'American Pale Wheat Ale', 'Smoked Beer',\n",
              "       'American Strong Ale', 'English Porter', 'Belgian Pale Ale',\n",
              "       'English Stout', 'American Adjunct Lager', 'English Bitter',\n",
              "       'Euro Dark Lager', 'Black & Tan', 'American Stout',\n",
              "       'Belgian Strong Dark Ale', 'Belgian Dark Ale', 'Tripel',\n",
              "       'American Blonde Ale', 'Belgian Strong Pale Ale',\n",
              "       'Scottish Gruit / Ancient Herbed Ale', 'Winter Warmer',\n",
              "       'Oatmeal Stout', 'American Malt Liquor', 'Dubbel',\n",
              "       'American Black Ale', 'American Amber / Red Lager',\n",
              "       'Dortmunder / Export Lager', 'Saison / Farmhouse Ale',\n",
              "       'BiÃ¨re de Garde', 'Quadrupel (Quad)', 'Weizenbock',\n",
              "       'Dunkelweizen', 'Schwarzbier', 'American Pale Lager',\n",
              "       'American Dark Wheat Ale', 'English Dark Mild Ale',\n",
              "       'Keller Bier / Zwickel Bier', 'Milk / Sweet Stout',\n",
              "       'Irish Red Ale', 'California Common / Steam Beer',\n",
              "       'Low Alcohol Beer', 'English Pale Mild Ale', 'Vienna Lager',\n",
              "       'Chile Beer', 'American Double / Imperial Pilsner',\n",
              "       'Flanders Oud Bruin', 'Flanders Red Ale', 'Lambic - Fruit',\n",
              "       'Eisbock', 'Kristalweizen', 'Berliner Weissbier'], dtype=object)"
            ]
          },
          "metadata": {
            "tags": []
          },
          "execution_count": 32
        }
      ]
    },
    {
      "cell_type": "code",
      "metadata": {
        "id": "rvlko8NF5QbN",
        "colab_type": "code",
        "colab": {
          "base_uri": "https://localhost:8080/",
          "height": 221
        },
        "outputId": "778b3629-e664-4936-b7ea-f53266efd34f"
      },
      "source": [
        "df2['beer/style'].value_counts()"
      ],
      "execution_count": 33,
      "outputs": [
        {
          "output_type": "execute_result",
          "data": {
            "text/plain": [
              "American Double / Imperial Stout    4490\n",
              "American IPA                        3048\n",
              "American Double / Imperial IPA      2871\n",
              "Scotch Ale / Wee Heavy              2133\n",
              "Russian Imperial Stout              2030\n",
              "                                    ... \n",
              "Kristalweizen                          6\n",
              "Berliner Weissbier                     6\n",
              "Eisbock                                5\n",
              "BiÃ¨re de Garde                        4\n",
              "Flanders Red Ale                       2\n",
              "Name: beer/style, Length: 95, dtype: int64"
            ]
          },
          "metadata": {
            "tags": []
          },
          "execution_count": 33
        }
      ]
    },
    {
      "cell_type": "code",
      "metadata": {
        "id": "Qul-_LNU0j8H",
        "colab_type": "code",
        "colab": {
          "base_uri": "https://localhost:8080/",
          "height": 419
        },
        "outputId": "19f2eb8f-9e8e-4ed6-8ba5-ba1d71e662f6"
      },
      "source": [
        "tfidf = TfidfVectorizer(strip_accents = 'unicode' , lowercase=True,ngram_range=(1,3),max_df=0.7,min_df=5,tokenizer=custom_tokenizer)\n",
        "sparse_matrix = tfidf.fit_transform(df2['beer/style'])\n",
        "\n",
        "ts = TruncatedSVD(n_components = 3)\n",
        "style_features = ts.fit_transform(sparse_matrix)\n",
        "\n",
        "df_new2 = pd.DataFrame(style_features)\n",
        "df_new2"
      ],
      "execution_count": 34,
      "outputs": [
        {
          "output_type": "execute_result",
          "data": {
            "text/html": [
              "<div>\n",
              "<style scoped>\n",
              "    .dataframe tbody tr th:only-of-type {\n",
              "        vertical-align: middle;\n",
              "    }\n",
              "\n",
              "    .dataframe tbody tr th {\n",
              "        vertical-align: top;\n",
              "    }\n",
              "\n",
              "    .dataframe thead th {\n",
              "        text-align: right;\n",
              "    }\n",
              "</style>\n",
              "<table border=\"1\" class=\"dataframe\">\n",
              "  <thead>\n",
              "    <tr style=\"text-align: right;\">\n",
              "      <th></th>\n",
              "      <th>0</th>\n",
              "      <th>1</th>\n",
              "      <th>2</th>\n",
              "    </tr>\n",
              "  </thead>\n",
              "  <tbody>\n",
              "    <tr>\n",
              "      <th>0</th>\n",
              "      <td>2.619909e-02</td>\n",
              "      <td>-0.006502</td>\n",
              "      <td>0.018988</td>\n",
              "    </tr>\n",
              "    <tr>\n",
              "      <th>1</th>\n",
              "      <td>7.369274e-02</td>\n",
              "      <td>0.105151</td>\n",
              "      <td>0.003534</td>\n",
              "    </tr>\n",
              "    <tr>\n",
              "      <th>2</th>\n",
              "      <td>4.827845e-02</td>\n",
              "      <td>0.102679</td>\n",
              "      <td>0.284195</td>\n",
              "    </tr>\n",
              "    <tr>\n",
              "      <th>3</th>\n",
              "      <td>-8.099101e-07</td>\n",
              "      <td>-0.000036</td>\n",
              "      <td>-0.000271</td>\n",
              "    </tr>\n",
              "    <tr>\n",
              "      <th>4</th>\n",
              "      <td>5.729746e-03</td>\n",
              "      <td>0.021576</td>\n",
              "      <td>0.207918</td>\n",
              "    </tr>\n",
              "    <tr>\n",
              "      <th>...</th>\n",
              "      <td>...</td>\n",
              "      <td>...</td>\n",
              "      <td>...</td>\n",
              "    </tr>\n",
              "    <tr>\n",
              "      <th>37480</th>\n",
              "      <td>4.683830e-02</td>\n",
              "      <td>-0.013832</td>\n",
              "      <td>0.049347</td>\n",
              "    </tr>\n",
              "    <tr>\n",
              "      <th>37481</th>\n",
              "      <td>6.072993e-02</td>\n",
              "      <td>-0.019032</td>\n",
              "      <td>0.945187</td>\n",
              "    </tr>\n",
              "    <tr>\n",
              "      <th>37482</th>\n",
              "      <td>4.351788e-02</td>\n",
              "      <td>-0.011181</td>\n",
              "      <td>0.032700</td>\n",
              "    </tr>\n",
              "    <tr>\n",
              "      <th>37483</th>\n",
              "      <td>9.382209e-01</td>\n",
              "      <td>-0.225795</td>\n",
              "      <td>-0.018446</td>\n",
              "    </tr>\n",
              "    <tr>\n",
              "      <th>37484</th>\n",
              "      <td>6.072993e-02</td>\n",
              "      <td>-0.019032</td>\n",
              "      <td>0.945187</td>\n",
              "    </tr>\n",
              "  </tbody>\n",
              "</table>\n",
              "<p>37485 rows × 3 columns</p>\n",
              "</div>"
            ],
            "text/plain": [
              "                  0         1         2\n",
              "0      2.619909e-02 -0.006502  0.018988\n",
              "1      7.369274e-02  0.105151  0.003534\n",
              "2      4.827845e-02  0.102679  0.284195\n",
              "3     -8.099101e-07 -0.000036 -0.000271\n",
              "4      5.729746e-03  0.021576  0.207918\n",
              "...             ...       ...       ...\n",
              "37480  4.683830e-02 -0.013832  0.049347\n",
              "37481  6.072993e-02 -0.019032  0.945187\n",
              "37482  4.351788e-02 -0.011181  0.032700\n",
              "37483  9.382209e-01 -0.225795 -0.018446\n",
              "37484  6.072993e-02 -0.019032  0.945187\n",
              "\n",
              "[37485 rows x 3 columns]"
            ]
          },
          "metadata": {
            "tags": []
          },
          "execution_count": 34
        }
      ]
    },
    {
      "cell_type": "code",
      "metadata": {
        "id": "4z-sYRtM8DQ0",
        "colab_type": "code",
        "colab": {
          "base_uri": "https://localhost:8080/",
          "height": 282
        },
        "outputId": "5f666dd0-7262-4dea-dea2-18e6cf03b10c"
      },
      "source": [
        "plt.scatter(df2['review/appearance'],df2['review/overall'])\n"
      ],
      "execution_count": 35,
      "outputs": [
        {
          "output_type": "execute_result",
          "data": {
            "text/plain": [
              "<matplotlib.collections.PathCollection at 0x7f80c39bed68>"
            ]
          },
          "metadata": {
            "tags": []
          },
          "execution_count": 35
        },
        {
          "output_type": "display_data",
          "data": {
            "image/png": "[encoded data removed]",
            "text/plain": [
              "<Figure size 432x288 with 1 Axes>"
            ]
          },
          "metadata": {
            "tags": [],
            "needs_background": "light"
          }
        }
      ]
    },
    {
      "cell_type": "code",
      "metadata": {
        "id": "ECMjV9qA931U",
        "colab_type": "code",
        "colab": {
          "base_uri": "https://localhost:8080/",
          "height": 34
        },
        "outputId": "82662973-0aa1-4048-a31f-3e0bcb3fcf90"
      },
      "source": [
        "column1 = df2['review/appearance']\n",
        "column2 = df2['review/overall']\n",
        "corelation = column2.corr(column1)\n",
        "print(corelation)"
      ],
      "execution_count": 36,
      "outputs": [
        {
          "output_type": "stream",
          "text": [
            "0.4986083151520517\n"
          ],
          "name": "stdout"
        }
      ]
    },
    {
      "cell_type": "code",
      "metadata": {
        "id": "onAL_bUdCEre",
        "colab_type": "code",
        "colab": {
          "base_uri": "https://localhost:8080/",
          "height": 282
        },
        "outputId": "45601599-5540-4492-b3e2-e8de5f13240d"
      },
      "source": [
        "plt.scatter(df2['review/aroma'],df2['review/overall'])\n"
      ],
      "execution_count": 37,
      "outputs": [
        {
          "output_type": "execute_result",
          "data": {
            "text/plain": [
              "<matplotlib.collections.PathCollection at 0x7f80c2c5bc18>"
            ]
          },
          "metadata": {
            "tags": []
          },
          "execution_count": 37
        },
        {
          "output_type": "display_data",
          "data": {
            "image/png": "[encoded data removed]",
            "text/plain": [
              "<Figure size 432x288 with 1 Axes>"
            ]
          },
          "metadata": {
            "tags": [],
            "needs_background": "light"
          }
        }
      ]
    },
    {
      "cell_type": "code",
      "metadata": {
        "id": "OZS4UCnJCPA-",
        "colab_type": "code",
        "colab": {
          "base_uri": "https://localhost:8080/",
          "height": 34
        },
        "outputId": "616f76bd-6e96-4d42-ac49-5b8a47dba66a"
      },
      "source": [
        "column1 = df2['review/aroma']\n",
        "column2 = df2['review/overall']\n",
        "corelation = column2.corr(column1)\n",
        "print(corelation)"
      ],
      "execution_count": 38,
      "outputs": [
        {
          "output_type": "stream",
          "text": [
            "0.6160750078613497\n"
          ],
          "name": "stdout"
        }
      ]
    },
    {
      "cell_type": "code",
      "metadata": {
        "id": "hliHLsjDCkBc",
        "colab_type": "code",
        "colab": {
          "base_uri": "https://localhost:8080/",
          "height": 282
        },
        "outputId": "386c0f8f-8a2b-43af-cc56-5f366dfb527d"
      },
      "source": [
        "plt.scatter(df2['review/palate'],df2['review/overall'])\n"
      ],
      "execution_count": 39,
      "outputs": [
        {
          "output_type": "execute_result",
          "data": {
            "text/plain": [
              "<matplotlib.collections.PathCollection at 0x7f80c2dbaf28>"
            ]
          },
          "metadata": {
            "tags": []
          },
          "execution_count": 39
        },
        {
          "output_type": "display_data",
          "data": {
            "image/png": "[encoded data removed]",
            "text/plain": [
              "<Figure size 432x288 with 1 Axes>"
            ]
          },
          "metadata": {
            "tags": [],
            "needs_background": "light"
          }
        }
      ]
    },
    {
      "cell_type": "code",
      "metadata": {
        "id": "cXyy0yEyCYZd",
        "colab_type": "code",
        "colab": {
          "base_uri": "https://localhost:8080/",
          "height": 34
        },
        "outputId": "ab0b91d4-37db-47d5-de77-22e6328477e4"
      },
      "source": [
        "column1 = df2['review/palate']\n",
        "column2 = df2['review/overall']\n",
        "corelation = column2.corr(column1)\n",
        "print(corelation)"
      ],
      "execution_count": 40,
      "outputs": [
        {
          "output_type": "stream",
          "text": [
            "0.6972221490154391\n"
          ],
          "name": "stdout"
        }
      ]
    },
    {
      "cell_type": "code",
      "metadata": {
        "id": "XZ4nS9qACjLT",
        "colab_type": "code",
        "colab": {
          "base_uri": "https://localhost:8080/",
          "height": 282
        },
        "outputId": "de08fb2f-90f1-48b1-ab59-2289d0e4de96"
      },
      "source": [
        "plt.scatter(df2['review/taste'],df2['review/overall'])\n"
      ],
      "execution_count": 41,
      "outputs": [
        {
          "output_type": "execute_result",
          "data": {
            "text/plain": [
              "<matplotlib.collections.PathCollection at 0x7f80c2f5d2b0>"
            ]
          },
          "metadata": {
            "tags": []
          },
          "execution_count": 41
        },
        {
          "output_type": "display_data",
          "data": {
            "image/png": "[encoded data removed]",
            "text/plain": [
              "<Figure size 432x288 with 1 Axes>"
            ]
          },
          "metadata": {
            "tags": [],
            "needs_background": "light"
          }
        }
      ]
    },
    {
      "cell_type": "code",
      "metadata": {
        "id": "OzVVGoseCedj",
        "colab_type": "code",
        "colab": {
          "base_uri": "https://localhost:8080/",
          "height": 34
        },
        "outputId": "85e48694-9f9c-47bc-e3cf-88519c7079c7"
      },
      "source": [
        "column1 = df2['review/taste']\n",
        "column2 = df2['review/overall']\n",
        "corelation = column2.corr(column1)\n",
        "print(corelation)"
      ],
      "execution_count": 42,
      "outputs": [
        {
          "output_type": "stream",
          "text": [
            "0.7851822417770992\n"
          ],
          "name": "stdout"
        }
      ]
    },
    {
      "cell_type": "code",
      "metadata": {
        "id": "SrbJSrhOZlBQ",
        "colab_type": "code",
        "colab": {
          "base_uri": "https://localhost:8080/",
          "height": 35
        },
        "outputId": "cd681276-2530-4d51-9edb-7b931d1cffa5"
      },
      "source": [
        "import string \n",
        "string.punctuation"
      ],
      "execution_count": 43,
      "outputs": [
        {
          "output_type": "execute_result",
          "data": {
            "application/vnd.google.colaboratory.intrinsic+json": {
              "type": "string"
            },
            "text/plain": [
              "'!\"#$%&\\'()*+,-./:;<=>?@[\\\\]^_`{|}~'"
            ]
          },
          "metadata": {
            "tags": []
          },
          "execution_count": 43
        }
      ]
    },
    {
      "cell_type": "code",
      "metadata": {
        "id": "o_FWeYgratT5",
        "colab_type": "code",
        "colab": {}
      },
      "source": [
        "def remove_punc(text):\n",
        "  txt_nopunc = \"\".join([c for c in text if c not in string.punctuation])\n",
        "  return txt_nopunc\n",
        "\n",
        "\n",
        "  "
      ],
      "execution_count": 44,
      "outputs": []
    },
    {
      "cell_type": "code",
      "metadata": {
        "id": "VpfoKEf4bN7u",
        "colab_type": "code",
        "colab": {
          "base_uri": "https://localhost:8080/",
          "height": 221
        },
        "outputId": "39ecd930-2aac-4966-9068-55a3c8b1bff1"
      },
      "source": [
        " df4 = df2['review/text'].apply(lambda x : remove_punc(x) )\n",
        " df4"
      ],
      "execution_count": 45,
      "outputs": [
        {
          "output_type": "execute_result",
          "data": {
            "text/plain": [
              "0        Pours a clouded gold with a thin white head No...\n",
              "1        12oz bottle into 8oz snifter\\t\\tDeep ruby red ...\n",
              "2        First enjoyed at the brewpub about 2 years ago...\n",
              "3        First thing I noticed after pouring from green...\n",
              "4        A pours an amber with a one finger head but on...\n",
              "                               ...                        \n",
              "37495    12 oz brown longneck with no freshness dating\\...\n",
              "37496    A  A bright red with a maroonamber hue minimal...\n",
              "37497    Sampled on tap at Redbones\\t\\tThis marzen styl...\n",
              "37498    Pours a black body with a brown head that very...\n",
              "37499    A nice sweet malty beernothing complex just a ...\n",
              "Name: review/text, Length: 37485, dtype: object"
            ]
          },
          "metadata": {
            "tags": []
          },
          "execution_count": 45
        }
      ]
    },
    {
      "cell_type": "code",
      "metadata": {
        "id": "bWpqu9-KTRnW",
        "colab_type": "code",
        "colab": {
          "base_uri": "https://localhost:8080/",
          "height": 221
        },
        "outputId": "01a6c721-0707-436f-ff35-ebd3cda0e0d3"
      },
      "source": [
        "import re \n",
        "\n",
        "def tokenize(text):\n",
        "  tokens = re.split('\\W+' , text)\n",
        "  return tokens\n",
        "df5 = df4.apply(lambda x : tokenize(x.lower()))\n",
        "df5"
      ],
      "execution_count": 46,
      "outputs": [
        {
          "output_type": "execute_result",
          "data": {
            "text/plain": [
              "0        [pours, a, clouded, gold, with, a, thin, white...\n",
              "1        [12oz, bottle, into, 8oz, snifter, deep, ruby,...\n",
              "2        [first, enjoyed, at, the, brewpub, about, 2, y...\n",
              "3        [first, thing, i, noticed, after, pouring, fro...\n",
              "4        [a, pours, an, amber, with, a, one, finger, he...\n",
              "                               ...                        \n",
              "37495    [12, oz, brown, longneck, with, no, freshness,...\n",
              "37496    [a, a, bright, red, with, a, maroonamber, hue,...\n",
              "37497    [sampled, on, tap, at, redbones, this, marzen,...\n",
              "37498    [pours, a, black, body, with, a, brown, head, ...\n",
              "37499    [a, nice, sweet, malty, beernothing, complex, ...\n",
              "Name: review/text, Length: 37485, dtype: object"
            ]
          },
          "metadata": {
            "tags": []
          },
          "execution_count": 46
        }
      ]
    },
    {
      "cell_type": "code",
      "metadata": {
        "id": "oJUd14K5uLbT",
        "colab_type": "code",
        "colab": {
          "base_uri": "https://localhost:8080/",
          "height": 68
        },
        "outputId": "3ed0396b-4972-438a-8765-81071a6e3e95"
      },
      "source": [
        "import nltk\n",
        "nltk.download(\"stopwords\")"
      ],
      "execution_count": 47,
      "outputs": [
        {
          "output_type": "stream",
          "text": [
            "[nltk_data] Downloading package stopwords to /root/nltk_data...\n",
            "[nltk_data]   Unzipping corpora/stopwords.zip.\n"
          ],
          "name": "stdout"
        },
        {
          "output_type": "execute_result",
          "data": {
            "text/plain": [
              "True"
            ]
          },
          "metadata": {
            "tags": []
          },
          "execution_count": 47
        }
      ]
    },
    {
      "cell_type": "code",
      "metadata": {
        "id": "rEXDIfHmrldB",
        "colab_type": "code",
        "colab": {
          "base_uri": "https://localhost:8080/",
          "height": 221
        },
        "outputId": "c232b622-60cd-41c6-9323-2b9f30d76074"
      },
      "source": [
        "import nltk\n",
        "stopwords = nltk.corpus.stopwords.words('english')\n",
        "\n",
        "def remove_stopwords(text_tokenized):\n",
        "  text_clean = [word for word in text_tokenized if word not in stopwords]\n",
        "  return text_clean\n",
        "\n",
        "df6 = df5.apply(lambda x : remove_stopwords(x))  \n",
        "df6"
      ],
      "execution_count": 48,
      "outputs": [
        {
          "output_type": "execute_result",
          "data": {
            "text/plain": [
              "0        [pours, clouded, gold, thin, white, head, nose...\n",
              "1        [12oz, bottle, 8oz, snifter, deep, ruby, red, ...\n",
              "2        [first, enjoyed, brewpub, 2, years, ago, final...\n",
              "3        [first, thing, noticed, pouring, green, bottle...\n",
              "4        [pours, amber, one, finger, head, strong, pour...\n",
              "                               ...                        \n",
              "37495    [12, oz, brown, longneck, freshness, dating, p...\n",
              "37496    [bright, red, maroonamber, hue, minimal, light...\n",
              "37497    [sampled, tap, redbones, marzen, style, beer, ...\n",
              "37498    [pours, black, body, brown, head, quickly, fiz...\n",
              "37499    [nice, sweet, malty, beernothing, complex, smo...\n",
              "Name: review/text, Length: 37485, dtype: object"
            ]
          },
          "metadata": {
            "tags": []
          },
          "execution_count": 48
        }
      ]
    },
    {
      "cell_type": "code",
      "metadata": {
        "id": "hGRul0Fr5vT_",
        "colab_type": "code",
        "colab": {
          "base_uri": "https://localhost:8080/",
          "height": 419
        },
        "outputId": "dd242a22-11d2-41b4-a4b6-c2f5bac5b8b8"
      },
      "source": [
        "tfidf_text = TfidfVectorizer(strip_accents = 'unicode' , lowercase=True,ngram_range=(1,3),max_df=0.7,min_df=5,tokenizer=custom_tokenizer)\n",
        "matrix = tfidf_text.fit_transform(df2['review/text'])\n",
        "\n",
        "ts3 = TruncatedSVD(n_components = 15)\n",
        "review_features = ts3.fit_transform(matrix)\n",
        "\n",
        "df_new3 = pd.DataFrame(review_features)\n",
        "df_new3"
      ],
      "execution_count": 49,
      "outputs": [
        {
          "output_type": "execute_result",
          "data": {
            "text/html": [
              "<div>\n",
              "<style scoped>\n",
              "    .dataframe tbody tr th:only-of-type {\n",
              "        vertical-align: middle;\n",
              "    }\n",
              "\n",
              "    .dataframe tbody tr th {\n",
              "        vertical-align: top;\n",
              "    }\n",
              "\n",
              "    .dataframe thead th {\n",
              "        text-align: right;\n",
              "    }\n",
              "</style>\n",
              "<table border=\"1\" class=\"dataframe\">\n",
              "  <thead>\n",
              "    <tr style=\"text-align: right;\">\n",
              "      <th></th>\n",
              "      <th>0</th>\n",
              "      <th>1</th>\n",
              "      <th>2</th>\n",
              "      <th>3</th>\n",
              "      <th>4</th>\n",
              "      <th>5</th>\n",
              "      <th>6</th>\n",
              "      <th>7</th>\n",
              "      <th>8</th>\n",
              "      <th>9</th>\n",
              "      <th>10</th>\n",
              "      <th>11</th>\n",
              "      <th>12</th>\n",
              "      <th>13</th>\n",
              "      <th>14</th>\n",
              "    </tr>\n",
              "  </thead>\n",
              "  <tbody>\n",
              "    <tr>\n",
              "      <th>0</th>\n",
              "      <td>0.107649</td>\n",
              "      <td>-0.039305</td>\n",
              "      <td>0.007633</td>\n",
              "      <td>0.002802</td>\n",
              "      <td>-0.021625</td>\n",
              "      <td>-0.000917</td>\n",
              "      <td>-0.012502</td>\n",
              "      <td>0.012179</td>\n",
              "      <td>0.013967</td>\n",
              "      <td>-0.005744</td>\n",
              "      <td>-0.010901</td>\n",
              "      <td>0.019268</td>\n",
              "      <td>0.007601</td>\n",
              "      <td>0.013412</td>\n",
              "      <td>-0.004254</td>\n",
              "    </tr>\n",
              "    <tr>\n",
              "      <th>1</th>\n",
              "      <td>0.178401</td>\n",
              "      <td>-0.014855</td>\n",
              "      <td>0.045979</td>\n",
              "      <td>-0.033373</td>\n",
              "      <td>-0.013940</td>\n",
              "      <td>-0.026626</td>\n",
              "      <td>-0.020024</td>\n",
              "      <td>-0.012821</td>\n",
              "      <td>0.052947</td>\n",
              "      <td>-0.060676</td>\n",
              "      <td>0.007669</td>\n",
              "      <td>-0.013806</td>\n",
              "      <td>0.030794</td>\n",
              "      <td>-0.053818</td>\n",
              "      <td>-0.012136</td>\n",
              "    </tr>\n",
              "    <tr>\n",
              "      <th>2</th>\n",
              "      <td>0.106478</td>\n",
              "      <td>0.014668</td>\n",
              "      <td>0.117831</td>\n",
              "      <td>0.156260</td>\n",
              "      <td>0.053141</td>\n",
              "      <td>0.059299</td>\n",
              "      <td>0.012735</td>\n",
              "      <td>-0.002667</td>\n",
              "      <td>-0.017935</td>\n",
              "      <td>-0.011344</td>\n",
              "      <td>-0.024004</td>\n",
              "      <td>0.009220</td>\n",
              "      <td>0.015101</td>\n",
              "      <td>0.009484</td>\n",
              "      <td>-0.010777</td>\n",
              "    </tr>\n",
              "    <tr>\n",
              "      <th>3</th>\n",
              "      <td>0.086247</td>\n",
              "      <td>-0.026850</td>\n",
              "      <td>-0.017926</td>\n",
              "      <td>0.006075</td>\n",
              "      <td>-0.021685</td>\n",
              "      <td>0.003762</td>\n",
              "      <td>0.024743</td>\n",
              "      <td>-0.004682</td>\n",
              "      <td>-0.026133</td>\n",
              "      <td>-0.030382</td>\n",
              "      <td>0.014751</td>\n",
              "      <td>0.019999</td>\n",
              "      <td>0.016501</td>\n",
              "      <td>-0.020035</td>\n",
              "      <td>-0.027761</td>\n",
              "    </tr>\n",
              "    <tr>\n",
              "      <th>4</th>\n",
              "      <td>0.159874</td>\n",
              "      <td>0.080461</td>\n",
              "      <td>-0.016373</td>\n",
              "      <td>0.105746</td>\n",
              "      <td>-0.034149</td>\n",
              "      <td>0.038477</td>\n",
              "      <td>-0.031868</td>\n",
              "      <td>0.001540</td>\n",
              "      <td>0.030598</td>\n",
              "      <td>-0.037038</td>\n",
              "      <td>0.025878</td>\n",
              "      <td>-0.003452</td>\n",
              "      <td>-0.010701</td>\n",
              "      <td>0.010528</td>\n",
              "      <td>0.003451</td>\n",
              "    </tr>\n",
              "    <tr>\n",
              "      <th>...</th>\n",
              "      <td>...</td>\n",
              "      <td>...</td>\n",
              "      <td>...</td>\n",
              "      <td>...</td>\n",
              "      <td>...</td>\n",
              "      <td>...</td>\n",
              "      <td>...</td>\n",
              "      <td>...</td>\n",
              "      <td>...</td>\n",
              "      <td>...</td>\n",
              "      <td>...</td>\n",
              "      <td>...</td>\n",
              "      <td>...</td>\n",
              "      <td>...</td>\n",
              "      <td>...</td>\n",
              "    </tr>\n",
              "    <tr>\n",
              "      <th>37480</th>\n",
              "      <td>0.125524</td>\n",
              "      <td>-0.034927</td>\n",
              "      <td>0.008045</td>\n",
              "      <td>-0.014745</td>\n",
              "      <td>-0.012001</td>\n",
              "      <td>-0.031383</td>\n",
              "      <td>-0.017742</td>\n",
              "      <td>-0.026329</td>\n",
              "      <td>0.021758</td>\n",
              "      <td>0.000185</td>\n",
              "      <td>0.003333</td>\n",
              "      <td>0.028676</td>\n",
              "      <td>0.024956</td>\n",
              "      <td>-0.063290</td>\n",
              "      <td>-0.034094</td>\n",
              "    </tr>\n",
              "    <tr>\n",
              "      <th>37481</th>\n",
              "      <td>0.189117</td>\n",
              "      <td>0.010351</td>\n",
              "      <td>0.001588</td>\n",
              "      <td>-0.059669</td>\n",
              "      <td>0.043243</td>\n",
              "      <td>0.081483</td>\n",
              "      <td>0.004093</td>\n",
              "      <td>-0.036739</td>\n",
              "      <td>-0.028657</td>\n",
              "      <td>0.015111</td>\n",
              "      <td>0.017730</td>\n",
              "      <td>0.011214</td>\n",
              "      <td>-0.025931</td>\n",
              "      <td>0.037592</td>\n",
              "      <td>0.001937</td>\n",
              "    </tr>\n",
              "    <tr>\n",
              "      <th>37482</th>\n",
              "      <td>0.150229</td>\n",
              "      <td>-0.035723</td>\n",
              "      <td>0.088741</td>\n",
              "      <td>-0.018432</td>\n",
              "      <td>-0.023590</td>\n",
              "      <td>-0.065558</td>\n",
              "      <td>-0.058301</td>\n",
              "      <td>-0.046634</td>\n",
              "      <td>0.027835</td>\n",
              "      <td>0.079362</td>\n",
              "      <td>-0.004462</td>\n",
              "      <td>-0.003085</td>\n",
              "      <td>-0.035120</td>\n",
              "      <td>-0.017420</td>\n",
              "      <td>-0.014115</td>\n",
              "    </tr>\n",
              "    <tr>\n",
              "      <th>37483</th>\n",
              "      <td>0.161344</td>\n",
              "      <td>-0.028737</td>\n",
              "      <td>-0.065437</td>\n",
              "      <td>-0.010453</td>\n",
              "      <td>0.067538</td>\n",
              "      <td>-0.054612</td>\n",
              "      <td>0.020028</td>\n",
              "      <td>-0.022392</td>\n",
              "      <td>-0.026773</td>\n",
              "      <td>-0.023210</td>\n",
              "      <td>-0.003288</td>\n",
              "      <td>0.024595</td>\n",
              "      <td>-0.023640</td>\n",
              "      <td>-0.010588</td>\n",
              "      <td>-0.006550</td>\n",
              "    </tr>\n",
              "    <tr>\n",
              "      <th>37484</th>\n",
              "      <td>0.162389</td>\n",
              "      <td>-0.044851</td>\n",
              "      <td>0.006608</td>\n",
              "      <td>-0.004755</td>\n",
              "      <td>-0.004588</td>\n",
              "      <td>-0.014296</td>\n",
              "      <td>0.010810</td>\n",
              "      <td>0.014892</td>\n",
              "      <td>-0.006490</td>\n",
              "      <td>-0.002663</td>\n",
              "      <td>0.037261</td>\n",
              "      <td>0.027700</td>\n",
              "      <td>-0.015175</td>\n",
              "      <td>0.005436</td>\n",
              "      <td>-0.028814</td>\n",
              "    </tr>\n",
              "  </tbody>\n",
              "</table>\n",
              "<p>37485 rows × 15 columns</p>\n",
              "</div>"
            ],
            "text/plain": [
              "             0         1         2   ...        12        13        14\n",
              "0      0.107649 -0.039305  0.007633  ...  0.007601  0.013412 -0.004254\n",
              "1      0.178401 -0.014855  0.045979  ...  0.030794 -0.053818 -0.012136\n",
              "2      0.106478  0.014668  0.117831  ...  0.015101  0.009484 -0.010777\n",
              "3      0.086247 -0.026850 -0.017926  ...  0.016501 -0.020035 -0.027761\n",
              "4      0.159874  0.080461 -0.016373  ... -0.010701  0.010528  0.003451\n",
              "...         ...       ...       ...  ...       ...       ...       ...\n",
              "37480  0.125524 -0.034927  0.008045  ...  0.024956 -0.063290 -0.034094\n",
              "37481  0.189117  0.010351  0.001588  ... -0.025931  0.037592  0.001937\n",
              "37482  0.150229 -0.035723  0.088741  ... -0.035120 -0.017420 -0.014115\n",
              "37483  0.161344 -0.028737 -0.065437  ... -0.023640 -0.010588 -0.006550\n",
              "37484  0.162389 -0.044851  0.006608  ... -0.015175  0.005436 -0.028814\n",
              "\n",
              "[37485 rows x 15 columns]"
            ]
          },
          "metadata": {
            "tags": []
          },
          "execution_count": 49
        }
      ]
    },
    {
      "cell_type": "code",
      "metadata": {
        "id": "6JDaRU-qFkCS",
        "colab_type": "code",
        "colab": {
          "base_uri": "https://localhost:8080/",
          "height": 51
        },
        "outputId": "12765949-e7f6-46bb-cb86-271afc0080ff"
      },
      "source": [
        "df2['user/profileName'].unique()"
      ],
      "execution_count": 50,
      "outputs": [
        {
          "output_type": "execute_result",
          "data": {
            "text/plain": [
              "array(['RblWthACoz', 'BeerSox', 'mschofield', ..., 'Antikythera', 'JAA',\n",
              "       'dvsbizzyb'], dtype=object)"
            ]
          },
          "metadata": {
            "tags": []
          },
          "execution_count": 50
        }
      ]
    },
    {
      "cell_type": "code",
      "metadata": {
        "id": "pwAHqarHFuMu",
        "colab_type": "code",
        "colab": {
          "base_uri": "https://localhost:8080/",
          "height": 221
        },
        "outputId": "83a4e08e-f508-4974-a072-18c756819191"
      },
      "source": [
        "df2['user/profileName'].value_counts()"
      ],
      "execution_count": 51,
      "outputs": [
        {
          "output_type": "execute_result",
          "data": {
            "text/plain": [
              "northyorksammy    141\n",
              "BuckeyeNation     110\n",
              "mikesgroove        92\n",
              "ChainGangGuy       84\n",
              "MasterSki          83\n",
              "                 ... \n",
              "Elendinn            1\n",
              "Barleythenred       1\n",
              "GrizzlyBehr         1\n",
              "timholio            1\n",
              "lookitsfelias       1\n",
              "Name: user/profileName, Length: 7439, dtype: int64"
            ]
          },
          "metadata": {
            "tags": []
          },
          "execution_count": 51
        }
      ]
    },
    {
      "cell_type": "code",
      "metadata": {
        "id": "gacZAsm_Cp3T",
        "colab_type": "code",
        "colab": {
          "base_uri": "https://localhost:8080/",
          "height": 221
        },
        "outputId": "1b392e4d-0b9d-48d8-f3b8-c944861c3427"
      },
      "source": [
        "df2[\"review/taste\"]"
      ],
      "execution_count": 52,
      "outputs": [
        {
          "output_type": "execute_result",
          "data": {
            "text/plain": [
              "0        4.0\n",
              "1        3.0\n",
              "2        3.5\n",
              "3        3.0\n",
              "4        2.5\n",
              "        ... \n",
              "37495    3.5\n",
              "37496    4.5\n",
              "37497    4.0\n",
              "37498    5.0\n",
              "37499    4.0\n",
              "Name: review/taste, Length: 37485, dtype: float64"
            ]
          },
          "metadata": {
            "tags": []
          },
          "execution_count": 52
        }
      ]
    },
    {
      "cell_type": "code",
      "metadata": {
        "id": "bE79Ya9J-eTS",
        "colab_type": "code",
        "colab": {
          "base_uri": "https://localhost:8080/",
          "height": 609
        },
        "outputId": "2c535cff-a984-44a6-cef9-6f9208f93789"
      },
      "source": [
        "frames = [df_new, df_new2 , df_new3, df2['review/taste'] ,df2['review/appearance'] , df2['review/aroma'] , df2['review/palate'] ,df2['review/overall'] ]\n",
        "result = pd.concat(frames, axis=1)\n",
        "result\n",
        "\n",
        "features = result.dropna()\n",
        "features"
      ],
      "execution_count": 53,
      "outputs": [
        {
          "output_type": "execute_result",
          "data": {
            "text/html": [
              "<div>\n",
              "<style scoped>\n",
              "    .dataframe tbody tr th:only-of-type {\n",
              "        vertical-align: middle;\n",
              "    }\n",
              "\n",
              "    .dataframe tbody tr th {\n",
              "        vertical-align: top;\n",
              "    }\n",
              "\n",
              "    .dataframe thead th {\n",
              "        text-align: right;\n",
              "    }\n",
              "</style>\n",
              "<table border=\"1\" class=\"dataframe\">\n",
              "  <thead>\n",
              "    <tr style=\"text-align: right;\">\n",
              "      <th></th>\n",
              "      <th>0</th>\n",
              "      <th>1</th>\n",
              "      <th>2</th>\n",
              "      <th>0</th>\n",
              "      <th>1</th>\n",
              "      <th>2</th>\n",
              "      <th>0</th>\n",
              "      <th>1</th>\n",
              "      <th>2</th>\n",
              "      <th>3</th>\n",
              "      <th>4</th>\n",
              "      <th>5</th>\n",
              "      <th>6</th>\n",
              "      <th>7</th>\n",
              "      <th>8</th>\n",
              "      <th>9</th>\n",
              "      <th>10</th>\n",
              "      <th>11</th>\n",
              "      <th>12</th>\n",
              "      <th>13</th>\n",
              "      <th>14</th>\n",
              "      <th>review/taste</th>\n",
              "      <th>review/appearance</th>\n",
              "      <th>review/aroma</th>\n",
              "      <th>review/palate</th>\n",
              "      <th>review/overall</th>\n",
              "    </tr>\n",
              "  </thead>\n",
              "  <tbody>\n",
              "    <tr>\n",
              "      <th>0</th>\n",
              "      <td>1.314149e-11</td>\n",
              "      <td>8.902600e-11</td>\n",
              "      <td>3.828934e-10</td>\n",
              "      <td>2.619909e-02</td>\n",
              "      <td>-0.006502</td>\n",
              "      <td>0.018988</td>\n",
              "      <td>0.107649</td>\n",
              "      <td>-0.039305</td>\n",
              "      <td>0.007633</td>\n",
              "      <td>0.002802</td>\n",
              "      <td>-0.021625</td>\n",
              "      <td>-0.000917</td>\n",
              "      <td>-0.012502</td>\n",
              "      <td>0.012179</td>\n",
              "      <td>0.013967</td>\n",
              "      <td>-0.005744</td>\n",
              "      <td>-0.010901</td>\n",
              "      <td>0.019268</td>\n",
              "      <td>0.007601</td>\n",
              "      <td>0.013412</td>\n",
              "      <td>-0.004254</td>\n",
              "      <td>4.0</td>\n",
              "      <td>4.0</td>\n",
              "      <td>4.0</td>\n",
              "      <td>4.0</td>\n",
              "      <td>4.0</td>\n",
              "    </tr>\n",
              "    <tr>\n",
              "      <th>1</th>\n",
              "      <td>4.306982e-03</td>\n",
              "      <td>2.392792e-02</td>\n",
              "      <td>1.924119e-02</td>\n",
              "      <td>7.369274e-02</td>\n",
              "      <td>0.105151</td>\n",
              "      <td>0.003534</td>\n",
              "      <td>0.178401</td>\n",
              "      <td>-0.014855</td>\n",
              "      <td>0.045979</td>\n",
              "      <td>-0.033373</td>\n",
              "      <td>-0.013940</td>\n",
              "      <td>-0.026626</td>\n",
              "      <td>-0.020024</td>\n",
              "      <td>-0.012821</td>\n",
              "      <td>0.052947</td>\n",
              "      <td>-0.060676</td>\n",
              "      <td>0.007669</td>\n",
              "      <td>-0.013806</td>\n",
              "      <td>0.030794</td>\n",
              "      <td>-0.053818</td>\n",
              "      <td>-0.012136</td>\n",
              "      <td>3.0</td>\n",
              "      <td>4.0</td>\n",
              "      <td>3.5</td>\n",
              "      <td>3.5</td>\n",
              "      <td>3.5</td>\n",
              "    </tr>\n",
              "    <tr>\n",
              "      <th>2</th>\n",
              "      <td>9.045189e-03</td>\n",
              "      <td>4.958613e-02</td>\n",
              "      <td>6.975018e-02</td>\n",
              "      <td>4.827845e-02</td>\n",
              "      <td>0.102679</td>\n",
              "      <td>0.284195</td>\n",
              "      <td>0.106478</td>\n",
              "      <td>0.014668</td>\n",
              "      <td>0.117831</td>\n",
              "      <td>0.156260</td>\n",
              "      <td>0.053141</td>\n",
              "      <td>0.059299</td>\n",
              "      <td>0.012735</td>\n",
              "      <td>-0.002667</td>\n",
              "      <td>-0.017935</td>\n",
              "      <td>-0.011344</td>\n",
              "      <td>-0.024004</td>\n",
              "      <td>0.009220</td>\n",
              "      <td>0.015101</td>\n",
              "      <td>0.009484</td>\n",
              "      <td>-0.010777</td>\n",
              "      <td>3.5</td>\n",
              "      <td>3.5</td>\n",
              "      <td>4.0</td>\n",
              "      <td>3.5</td>\n",
              "      <td>3.5</td>\n",
              "    </tr>\n",
              "    <tr>\n",
              "      <th>3</th>\n",
              "      <td>9.453647e-05</td>\n",
              "      <td>-4.273333e-03</td>\n",
              "      <td>1.940110e-03</td>\n",
              "      <td>-8.099101e-07</td>\n",
              "      <td>-0.000036</td>\n",
              "      <td>-0.000271</td>\n",
              "      <td>0.086247</td>\n",
              "      <td>-0.026850</td>\n",
              "      <td>-0.017926</td>\n",
              "      <td>0.006075</td>\n",
              "      <td>-0.021685</td>\n",
              "      <td>0.003762</td>\n",
              "      <td>0.024743</td>\n",
              "      <td>-0.004682</td>\n",
              "      <td>-0.026133</td>\n",
              "      <td>-0.030382</td>\n",
              "      <td>0.014751</td>\n",
              "      <td>0.019999</td>\n",
              "      <td>0.016501</td>\n",
              "      <td>-0.020035</td>\n",
              "      <td>-0.027761</td>\n",
              "      <td>3.0</td>\n",
              "      <td>3.0</td>\n",
              "      <td>3.0</td>\n",
              "      <td>3.0</td>\n",
              "      <td>2.5</td>\n",
              "    </tr>\n",
              "    <tr>\n",
              "      <th>4</th>\n",
              "      <td>5.351434e-02</td>\n",
              "      <td>8.930816e-03</td>\n",
              "      <td>1.730542e-01</td>\n",
              "      <td>5.729746e-03</td>\n",
              "      <td>0.021576</td>\n",
              "      <td>0.207918</td>\n",
              "      <td>0.159874</td>\n",
              "      <td>0.080461</td>\n",
              "      <td>-0.016373</td>\n",
              "      <td>0.105746</td>\n",
              "      <td>-0.034149</td>\n",
              "      <td>0.038477</td>\n",
              "      <td>-0.031868</td>\n",
              "      <td>0.001540</td>\n",
              "      <td>0.030598</td>\n",
              "      <td>-0.037038</td>\n",
              "      <td>0.025878</td>\n",
              "      <td>-0.003452</td>\n",
              "      <td>-0.010701</td>\n",
              "      <td>0.010528</td>\n",
              "      <td>0.003451</td>\n",
              "      <td>2.5</td>\n",
              "      <td>4.0</td>\n",
              "      <td>3.0</td>\n",
              "      <td>3.5</td>\n",
              "      <td>3.0</td>\n",
              "    </tr>\n",
              "    <tr>\n",
              "      <th>...</th>\n",
              "      <td>...</td>\n",
              "      <td>...</td>\n",
              "      <td>...</td>\n",
              "      <td>...</td>\n",
              "      <td>...</td>\n",
              "      <td>...</td>\n",
              "      <td>...</td>\n",
              "      <td>...</td>\n",
              "      <td>...</td>\n",
              "      <td>...</td>\n",
              "      <td>...</td>\n",
              "      <td>...</td>\n",
              "      <td>...</td>\n",
              "      <td>...</td>\n",
              "      <td>...</td>\n",
              "      <td>...</td>\n",
              "      <td>...</td>\n",
              "      <td>...</td>\n",
              "      <td>...</td>\n",
              "      <td>...</td>\n",
              "      <td>...</td>\n",
              "      <td>...</td>\n",
              "      <td>...</td>\n",
              "      <td>...</td>\n",
              "      <td>...</td>\n",
              "      <td>...</td>\n",
              "    </tr>\n",
              "    <tr>\n",
              "      <th>37480</th>\n",
              "      <td>2.315024e-03</td>\n",
              "      <td>5.109377e-03</td>\n",
              "      <td>-5.227852e-03</td>\n",
              "      <td>4.683830e-02</td>\n",
              "      <td>-0.013832</td>\n",
              "      <td>0.049347</td>\n",
              "      <td>0.125524</td>\n",
              "      <td>-0.034927</td>\n",
              "      <td>0.008045</td>\n",
              "      <td>-0.014745</td>\n",
              "      <td>-0.012001</td>\n",
              "      <td>-0.031383</td>\n",
              "      <td>-0.017742</td>\n",
              "      <td>-0.026329</td>\n",
              "      <td>0.021758</td>\n",
              "      <td>0.000185</td>\n",
              "      <td>0.003333</td>\n",
              "      <td>0.028676</td>\n",
              "      <td>0.024956</td>\n",
              "      <td>-0.063290</td>\n",
              "      <td>-0.034094</td>\n",
              "      <td>3.5</td>\n",
              "      <td>4.0</td>\n",
              "      <td>3.5</td>\n",
              "      <td>3.0</td>\n",
              "      <td>3.5</td>\n",
              "    </tr>\n",
              "    <tr>\n",
              "      <th>37481</th>\n",
              "      <td>1.670805e-01</td>\n",
              "      <td>4.872200e-01</td>\n",
              "      <td>-1.708501e-01</td>\n",
              "      <td>6.072993e-02</td>\n",
              "      <td>-0.019032</td>\n",
              "      <td>0.945187</td>\n",
              "      <td>0.189117</td>\n",
              "      <td>0.010351</td>\n",
              "      <td>0.001588</td>\n",
              "      <td>-0.059669</td>\n",
              "      <td>0.043243</td>\n",
              "      <td>0.081483</td>\n",
              "      <td>0.004093</td>\n",
              "      <td>-0.036739</td>\n",
              "      <td>-0.028657</td>\n",
              "      <td>0.015111</td>\n",
              "      <td>0.017730</td>\n",
              "      <td>0.011214</td>\n",
              "      <td>-0.025931</td>\n",
              "      <td>0.037592</td>\n",
              "      <td>0.001937</td>\n",
              "      <td>3.5</td>\n",
              "      <td>4.0</td>\n",
              "      <td>3.5</td>\n",
              "      <td>4.0</td>\n",
              "      <td>3.5</td>\n",
              "    </tr>\n",
              "    <tr>\n",
              "      <th>37482</th>\n",
              "      <td>1.417782e-02</td>\n",
              "      <td>6.410484e-02</td>\n",
              "      <td>9.157604e-02</td>\n",
              "      <td>4.351788e-02</td>\n",
              "      <td>-0.011181</td>\n",
              "      <td>0.032700</td>\n",
              "      <td>0.150229</td>\n",
              "      <td>-0.035723</td>\n",
              "      <td>0.088741</td>\n",
              "      <td>-0.018432</td>\n",
              "      <td>-0.023590</td>\n",
              "      <td>-0.065558</td>\n",
              "      <td>-0.058301</td>\n",
              "      <td>-0.046634</td>\n",
              "      <td>0.027835</td>\n",
              "      <td>0.079362</td>\n",
              "      <td>-0.004462</td>\n",
              "      <td>-0.003085</td>\n",
              "      <td>-0.035120</td>\n",
              "      <td>-0.017420</td>\n",
              "      <td>-0.014115</td>\n",
              "      <td>5.0</td>\n",
              "      <td>3.5</td>\n",
              "      <td>4.5</td>\n",
              "      <td>4.0</td>\n",
              "      <td>4.5</td>\n",
              "    </tr>\n",
              "    <tr>\n",
              "      <th>37483</th>\n",
              "      <td>6.901627e-01</td>\n",
              "      <td>-2.692399e-01</td>\n",
              "      <td>4.643609e-01</td>\n",
              "      <td>9.382209e-01</td>\n",
              "      <td>-0.225795</td>\n",
              "      <td>-0.018446</td>\n",
              "      <td>0.161344</td>\n",
              "      <td>-0.028737</td>\n",
              "      <td>-0.065437</td>\n",
              "      <td>-0.010453</td>\n",
              "      <td>0.067538</td>\n",
              "      <td>-0.054612</td>\n",
              "      <td>0.020028</td>\n",
              "      <td>-0.022392</td>\n",
              "      <td>-0.026773</td>\n",
              "      <td>-0.023210</td>\n",
              "      <td>-0.003288</td>\n",
              "      <td>0.024595</td>\n",
              "      <td>-0.023640</td>\n",
              "      <td>-0.010588</td>\n",
              "      <td>-0.006550</td>\n",
              "      <td>3.5</td>\n",
              "      <td>4.5</td>\n",
              "      <td>2.5</td>\n",
              "      <td>4.5</td>\n",
              "      <td>4.0</td>\n",
              "    </tr>\n",
              "    <tr>\n",
              "      <th>37484</th>\n",
              "      <td>1.670805e-01</td>\n",
              "      <td>4.872200e-01</td>\n",
              "      <td>-1.708501e-01</td>\n",
              "      <td>6.072993e-02</td>\n",
              "      <td>-0.019032</td>\n",
              "      <td>0.945187</td>\n",
              "      <td>0.162389</td>\n",
              "      <td>-0.044851</td>\n",
              "      <td>0.006608</td>\n",
              "      <td>-0.004755</td>\n",
              "      <td>-0.004588</td>\n",
              "      <td>-0.014296</td>\n",
              "      <td>0.010810</td>\n",
              "      <td>0.014892</td>\n",
              "      <td>-0.006490</td>\n",
              "      <td>-0.002663</td>\n",
              "      <td>0.037261</td>\n",
              "      <td>0.027700</td>\n",
              "      <td>-0.015175</td>\n",
              "      <td>0.005436</td>\n",
              "      <td>-0.028814</td>\n",
              "      <td>3.5</td>\n",
              "      <td>4.0</td>\n",
              "      <td>3.5</td>\n",
              "      <td>4.0</td>\n",
              "      <td>4.0</td>\n",
              "    </tr>\n",
              "  </tbody>\n",
              "</table>\n",
              "<p>37470 rows × 26 columns</p>\n",
              "</div>"
            ],
            "text/plain": [
              "                  0             1  ...  review/palate  review/overall\n",
              "0      1.314149e-11  8.902600e-11  ...            4.0             4.0\n",
              "1      4.306982e-03  2.392792e-02  ...            3.5             3.5\n",
              "2      9.045189e-03  4.958613e-02  ...            3.5             3.5\n",
              "3      9.453647e-05 -4.273333e-03  ...            3.0             2.5\n",
              "4      5.351434e-02  8.930816e-03  ...            3.5             3.0\n",
              "...             ...           ...  ...            ...             ...\n",
              "37480  2.315024e-03  5.109377e-03  ...            3.0             3.5\n",
              "37481  1.670805e-01  4.872200e-01  ...            4.0             3.5\n",
              "37482  1.417782e-02  6.410484e-02  ...            4.0             4.5\n",
              "37483  6.901627e-01 -2.692399e-01  ...            4.5             4.0\n",
              "37484  1.670805e-01  4.872200e-01  ...            4.0             4.0\n",
              "\n",
              "[37470 rows x 26 columns]"
            ]
          },
          "metadata": {
            "tags": []
          },
          "execution_count": 53
        }
      ]
    },
    {
      "cell_type": "code",
      "metadata": {
        "id": "WX7VlnheDRgy",
        "colab_type": "code",
        "colab": {}
      },
      "source": [
        "x = features.drop('review/overall' , axis =1).values\n",
        "y = features['review/overall'].values"
      ],
      "execution_count": 54,
      "outputs": []
    },
    {
      "cell_type": "code",
      "metadata": {
        "id": "1ZuiEcKmKi8I",
        "colab_type": "code",
        "colab": {}
      },
      "source": [
        "from sklearn.preprocessing import scale\n",
        "x_scaled = scale(x)\n",
        "y_scaled = scale(y)\n"
      ],
      "execution_count": 55,
      "outputs": []
    },
    {
      "cell_type": "code",
      "metadata": {
        "id": "8NwtwMHQGJ71",
        "colab_type": "code",
        "colab": {
          "base_uri": "https://localhost:8080/",
          "height": 34
        },
        "outputId": "874a034d-b6d9-4b80-9bd8-c5efc58e8678"
      },
      "source": [
        "from sklearn.linear_model import LinearRegression\n",
        "from sklearn.model_selection import train_test_split\n",
        "\n",
        "x_train , x_test , y_train, y_test = train_test_split(x,y, test_size = 0.3, random_state = 42)\n",
        "\n",
        "reg_all = LinearRegression()\n",
        "reg_all.fit(x_train , y_train)\n",
        "y_pred = reg_all.predict(x_test)\n",
        "reg_all.score(x_test , y_test)"
      ],
      "execution_count": 58,
      "outputs": [
        {
          "output_type": "execute_result",
          "data": {
            "text/plain": [
              "0.6512090051559006"
            ]
          },
          "metadata": {
            "tags": []
          },
          "execution_count": 58
        }
      ]
    },
    {
      "cell_type": "code",
      "metadata": {
        "id": "iaWaNGO1pV-h",
        "colab_type": "code",
        "colab": {
          "base_uri": "https://localhost:8080/",
          "height": 34
        },
        "outputId": "ed61d992-d198-43ea-aefd-fa229d9a0d9d"
      },
      "source": [
        "from sklearn.tree import DecisionTreeRegressor\n",
        "x_train , x_test , y_train, y_test = train_test_split(x,y, test_size = 0.3, random_state = 42)\n",
        "dt = DecisionTreeRegressor(max_depth=5,  random_state=6)\n",
        "dt.fit(x_train , y_train)\n",
        "y_pred = dt.predict(x_test)\n",
        "dt.score(x_test , y_test)"
      ],
      "execution_count": 63,
      "outputs": [
        {
          "output_type": "execute_result",
          "data": {
            "text/plain": [
              "0.651108290112234"
            ]
          },
          "metadata": {
            "tags": []
          },
          "execution_count": 63
        }
      ]
    },
    {
      "cell_type": "code",
      "metadata": {
        "id": "Sru09w5GMojF",
        "colab_type": "code",
        "colab": {
          "base_uri": "https://localhost:8080/",
          "height": 68
        },
        "outputId": "48438c6f-75fd-4339-e310-c16992f7f1aa"
      },
      "source": [
        "from sklearn import metrics\n",
        "print(metrics.mean_absolute_error(y_test, y_pred))\n",
        "print(metrics.mean_squared_error(y_test, y_pred))\n",
        "\n",
        "print(metrics.mean_squared_log_error(y_test, y_pred))"
      ],
      "execution_count": 59,
      "outputs": [
        {
          "output_type": "stream",
          "text": [
            "0.30967443457693106\n",
            "0.16948478641873943\n",
            "0.008395402267805309\n"
          ],
          "name": "stdout"
        }
      ]
    },
    {
      "cell_type": "code",
      "metadata": {
        "id": "ooTbCwmpIWOj",
        "colab_type": "code",
        "colab": {
          "base_uri": "https://localhost:8080/",
          "height": 34
        },
        "outputId": "b612c7b5-d983-431b-abeb-0a2ee33766f5"
      },
      "source": [
        "from sklearn.model_selection import cross_val_score\n",
        "cv_results = cross_val_score(reg_all , x, y,  cv=5 )\n",
        "print(cv_results)"
      ],
      "execution_count": 61,
      "outputs": [
        {
          "output_type": "stream",
          "text": [
            "[0.64935183 0.66069055 0.65527448 0.64487787 0.64995884]\n"
          ],
          "name": "stdout"
        }
      ]
    },
    {
      "cell_type": "code",
      "metadata": {
        "id": "qz8vEFKio3OO",
        "colab_type": "code",
        "colab": {}
      },
      "source": [
        ""
      ],
      "execution_count": null,
      "outputs": []
    }
  ]
}